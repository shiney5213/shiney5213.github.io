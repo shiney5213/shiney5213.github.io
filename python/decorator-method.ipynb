{
 "cells": [
  {
   "cell_type": "markdown",
   "metadata": {},
   "source": [
    "# method\n",
    "\n",
    "method의 종류\n",
    "> 1. instance method\n",
    "> 2. 정적 메소드 (@classmethod, @staticmethod)\n",
    "\n",
    "\n",
    "## 1. instance method\n",
    "\n",
    "### 1) instance method\n",
    "- 객체를 통해서 호출\n",
    "- 첫번째 인자로 자기 자신을 가리키는 self를 가짐(self: 객체 인스턴스를 의미)\n"
   ]
  },
  {
   "cell_type": "code",
   "execution_count": 1,
   "metadata": {},
   "outputs": [
    {
     "name": "stdout",
     "output_type": "stream",
     "text": [
      "new data\n"
     ]
    }
   ],
   "source": [
    "class MyClass:\n",
    "    def __init__(self, data):\n",
    "        self.data = data\n",
    "\n",
    "    def print_data(self):\n",
    "        print(self.data)\n",
    "\n",
    "my_class = MyClass('new data')\n",
    "my_class.print_data()"
   ]
  },
  {
   "cell_type": "markdown",
   "metadata": {},
   "source": [
    "\n",
    "MyClass의 print_data() 메소드 \n",
    "> - 객체 인스턴스\n",
    "> - my_class라는 객체를 통해서 호출\n"
   ]
  },
  {
   "cell_type": "markdown",
   "metadata": {},
   "source": [
    "## 2. 정적 메소드 ()\n",
    "\n",
    "@classmethod, @staticmethod\n",
    "> - 정적 메소드 지원\n",
    "> - 객체를 생성하지 않고, 클래스에서 직접 접근할 수 있는 메소드\n"
   ]
  },
  {
   "cell_type": "markdown",
   "metadata": {},
   "source": [
    "### 1) static method\n",
    "- 인스턴스가 아닌 클래스러부터 직접 호출\n",
    "\n",
    "\n",
    "\n",
    "\n"
   ]
  },
  {
   "cell_type": "code",
   "execution_count": 3,
   "metadata": {},
   "outputs": [
    {
     "name": "stdout",
     "output_type": "stream",
     "text": [
      "MyClass\n"
     ]
    }
   ],
   "source": [
    "class MyClass:\n",
    "    def __init__(self, data):\n",
    "        self.data = data\n",
    "\n",
    "    @staticmethod                      # 정적 메소드로 선언\n",
    "    def print_class_name():            # self를 인자로 받지 않음 \n",
    "        print('MyClass')\n",
    "\n",
    "MyClass.print_class_name()             # MyClass 이름을 통해 호출"
   ]
  },
  {
   "cell_type": "markdown",
   "metadata": {},
   "source": [
    "static method\n",
    "> - 첫번재 인자로 self를 받지 않음 -> __객체별로 갖고 있는 상태 변수에 접근 불가__\n",
    "> - instance method처럼 MyClass 객체를 통해서도 호출 가능"
   ]
  },
  {
   "cell_type": "markdown",
   "metadata": {},
   "source": [
    "### 2) class method\n",
    "- 겍체가 아닌 클래스에 연산을 수행\n",
    "-  인수 : 객체 인스턴스를 의미하는 self 대신 `cls`라는 클래스를 의미하는 파라미터 필요\n",
    "-  class나 인스턴스를 통해 호출 가능"
   ]
  },
  {
   "cell_type": "code",
   "execution_count": 4,
   "metadata": {},
   "outputs": [
    {
     "name": "stdout",
     "output_type": "stream",
     "text": [
      "my_class\n"
     ]
    }
   ],
   "source": [
    "class MyClass:\n",
    "    name = 'my_class'\n",
    "\n",
    "    def __init__(self, data):\n",
    "        self.data = data\n",
    "\n",
    "    @classmethod                         # 정적 메소드로 선언\n",
    "    def print_class_name(cls):            # cls를 인자로 받음\n",
    "        print(cls.name)\n",
    "\n",
    "MyClass.print_class_name()  "
   ]
  },
  {
   "cell_type": "markdown",
   "metadata": {},
   "source": [
    "class method\n",
    "> - 메소드 안의 클래스 변수(cls)를 통해서 __클래스의 속성 값__이 접근 가능\n",
    "\n",
    "### 3) @classmethod, @ staticmethod 차이점"
   ]
  },
  {
   "cell_type": "code",
   "execution_count": 5,
   "metadata": {},
   "outputs": [],
   "source": [
    "class ParentClass:\n",
    "    role = 'Dad'\n",
    "\n",
    "    def __init__(self, data):\n",
    "        self.data = data\n",
    "    \n",
    "    @classmethod\n",
    "    def class_method_role(cls):\n",
    "        print(cls.role)\n",
    "\n",
    "    @staticmethod\n",
    "    def static_method_role():\n",
    "        print(ParentClass.role)\n",
    "\n",
    "class ChildClass(ParentClass):\n",
    "    role = 'Son'\n",
    "    "
   ]
  },
  {
   "cell_type": "code",
   "execution_count": 8,
   "metadata": {},
   "outputs": [
    {
     "name": "stdout",
     "output_type": "stream",
     "text": [
      "Son\n",
      "Dad\n"
     ]
    }
   ],
   "source": [
    "ChildClass.class_method_role()    # 'Son'\n",
    "ChildClass.static_method_role()   # 'Dad'"
   ]
  },
  {
   "cell_type": "markdown",
   "metadata": {},
   "source": [
    "공통점\n",
    "> - 둘다 ChildClass라는 class에 접근하여 출력\n",
    "\n",
    "차이점\n",
    "> - classmethod: ChildClass의 role 값 출력  -> __classmethod의 cls는 상속시 상속받은 자식 class를 가리킴__\n",
    "> - staticmethod: PrentClass의 role값 출력"
   ]
  },
  {
   "cell_type": "markdown",
   "metadata": {},
   "source": [
    "##### Reference\n",
    "- [python] 정적 메소드 @staticmethod, @classmethod 사용법 및 차이점 : https://hbase.tistory.com/419"
   ]
  },
  {
   "cell_type": "markdown",
   "metadata": {},
   "source": []
  }
 ],
 "metadata": {
  "kernelspec": {
   "display_name": "Python 3.10.13 ('book')",
   "language": "python",
   "name": "python3"
  },
  "language_info": {
   "codemirror_mode": {
    "name": "ipython",
    "version": 3
   },
   "file_extension": ".py",
   "mimetype": "text/x-python",
   "name": "python",
   "nbconvert_exporter": "python",
   "pygments_lexer": "ipython3",
   "version": "3.10.13"
  },
  "orig_nbformat": 4,
  "vscode": {
   "interpreter": {
    "hash": "fbb9e52b27e1643625a5b3f8a7047453142bd39b43540a1ee4af44f044e42c0c"
   }
  }
 },
 "nbformat": 4,
 "nbformat_minor": 2
}
