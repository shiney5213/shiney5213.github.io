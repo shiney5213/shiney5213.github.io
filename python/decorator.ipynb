{
 "cells": [
  {
   "cell_type": "markdown",
   "metadata": {},
   "source": [
    "# decorator\n",
    "- 함수를 수정하지 않고도 함수에 특정 동작을 추가하거나 작동방식을 바꿀 수 있음\n"
   ]
  },
  {
   "cell_type": "markdown",
   "metadata": {},
   "source": [
    "\n",
    "##### 함수를\n",
    "- 일반 값처럼 변수에 저장될 수 있고,\n",
    "-  다른 함수의 인자로 넘기거나, \n",
    "-  리턴값으로 사용 가능\n",
    "\n",
    "## 1. decorator 기본 지식\n",
    "- 다른 함수를 인자로 받은 콜러블(데커레이트된 함수)\n",
    "- 데커레이트된 함수에 어떤 처리를 수행하고, 함수를 반환하거나 함수를 다른 함수나 콜러블 객체로 대체한다."
   ]
  },
  {
   "cell_type": "code",
   "execution_count": null,
   "metadata": {},
   "outputs": [],
   "source": [
    "@decorate\n",
    "def target():\n",
    "    print('running target()')"
   ]
  },
  {
   "cell_type": "code",
   "execution_count": null,
   "metadata": {},
   "outputs": [],
   "source": [
    "def target():\n",
    "    print('running target()')\n",
    "\n",
    "target = decorator(target)   # target 변수에 함수를 재할당"
   ]
  },
  {
   "cell_type": "markdown",
   "metadata": {},
   "source": [
    "- 상기 두 코드의 결과는 동일하다\n",
    "- 두 코드를 실행한 후, target은 원래의 target()함수를 가리키는 것이 아니라, decorate(target)이 반환된 함수를가리킨다.\n",
    "\n",
    "### 1) 일반적으로 데커레이터는 함수를 다른 함수로 대체한다."
   ]
  },
  {
   "cell_type": "code",
   "execution_count": 5,
   "metadata": {},
   "outputs": [
    {
     "name": "stdout",
     "output_type": "stream",
     "text": [
      "target1():\n",
      "running inner()\n",
      "None\n",
      "target1:\n",
      "<function deco.<locals>.inner at 0x000002B8C6F83010>\n"
     ]
    }
   ],
   "source": [
    "def deco(func):\n",
    "    def inner():\n",
    "        print('running inner()')\n",
    "    return inner                    # deco()는 inner 함수 객체를 반환\n",
    "\n",
    "@deco\n",
    "def target1():                        # target()를 deco로 데커레이트\n",
    "    print('running target1()')\n",
    "\n",
    "\n",
    "print('target1():')\n",
    "print( target1())                    # 데커레이트된 target()을 호출하면 실제로 inner를 실행\n",
    "print('target1:')\n",
    "print( target1)                      # target이 inner()를 가리키고 있음\n",
    "\n"
   ]
  },
  {
   "cell_type": "code",
   "execution_count": 7,
   "metadata": {},
   "outputs": [
    {
     "name": "stdout",
     "output_type": "stream",
     "text": [
      "running target2()\n",
      "target2():\n",
      "running inner()\n",
      "None\n",
      "target2:\n",
      "<function deco.<locals>.inner at 0x000002B8C6D13760>\n"
     ]
    }
   ],
   "source": [
    "def target2():\n",
    "    print('running target2()')\n",
    "\n",
    "target2 = deco(target2())            # @deco\n",
    "                                     # def target2():\n",
    "                                     #      print('running target2()') 와 동일한 결과\n",
    "\n",
    "print('target2():')\n",
    "print( target2())                    # 데커레이트된 target2()을 호출하면 실제로 inner를 실행\n",
    "print('target2:')\n",
    "print( target2)                      # target2이 inner()를 가리키고 있음\n"
   ]
  },
  {
   "cell_type": "markdown",
   "metadata": {},
   "source": [
    "##### 데커레이터\n",
    "-  다른 함수를 인수로 전달해서 호출 <p>\n",
    "-  데커레이터 된 함수를 다른 함수로 대체 가능<p>\n",
    "-  모듈이 로딩될 때 바로 실행<p>"
   ]
  },
  {
   "cell_type": "markdown",
   "metadata": {},
   "source": [
    "### 2) 데코레이터로 원래 함수의 인자 그대로 넘기기 : *args, **kwargs 사용"
   ]
  },
  {
   "cell_type": "code",
   "execution_count": 8,
   "metadata": {},
   "outputs": [
    {
     "ename": "NameError",
     "evalue": "name 'decorater' is not defined",
     "output_type": "error",
     "traceback": [
      "\u001b[1;31m---------------------------------------------------------------------------\u001b[0m",
      "\u001b[1;31mNameError\u001b[0m                                 Traceback (most recent call last)",
      "Cell \u001b[1;32mIn[8], line 1\u001b[0m\n\u001b[1;32m----> 1\u001b[0m \u001b[38;5;129m@decorater\u001b[39m\n\u001b[0;32m      2\u001b[0m \u001b[38;5;28;01mdef\u001b[39;00m \u001b[38;5;21msay\u001b[39m(msg):\n\u001b[0;32m      3\u001b[0m     \u001b[38;5;28mprint\u001b[39m(msg)\n\u001b[0;32m      5\u001b[0m msg \u001b[38;5;241m=\u001b[39m \u001b[38;5;124m'\u001b[39m\u001b[38;5;124m안녕하세요\u001b[39m\u001b[38;5;124m'\u001b[39m\n",
      "\u001b[1;31mNameError\u001b[0m: name 'decorater' is not defined"
     ]
    }
   ],
   "source": [
    "@decorater\n",
    "def say(msg):\n",
    "    print(msg)\n",
    "\n",
    "msg = '안녕하세요'\n",
    "say(msg)"
   ]
  },
  {
   "cell_type": "markdown",
   "metadata": {},
   "source": [
    "- decorater 안의 wrapper()함수가 msg 인자를 무시했기 때문에 오류 발생\n",
    "- 원래 함수의 인자를 decorator 내부 함수로 넘기려면 *args와 **kwargs 사용해야 함"
   ]
  },
  {
   "cell_type": "code",
   "execution_count": 9,
   "metadata": {},
   "outputs": [],
   "source": [
    "def decorate(func):\n",
    "    def wrapper(*args, **kwars):\n",
    "        print('before')\n",
    "        func(*args, **kwars)\n",
    "        print('after')\n",
    "    return wrapper"
   ]
  },
  {
   "cell_type": "code",
   "execution_count": 10,
   "metadata": {},
   "outputs": [
    {
     "name": "stdout",
     "output_type": "stream",
     "text": [
      "before\n",
      "안녕하세요\n",
      "after\n"
     ]
    }
   ],
   "source": [
    "@decorate\n",
    "def say(msg):\n",
    "    print(msg)\n",
    "\n",
    "msg = '안녕하세요'\n",
    "say(msg)"
   ]
  },
  {
   "cell_type": "markdown",
   "metadata": {},
   "source": [
    "### 3)  데코레이터로부터 원래 함수의 리턴값 그대로 받기"
   ]
  },
  {
   "cell_type": "code",
   "execution_count": 25,
   "metadata": {},
   "outputs": [
    {
     "name": "stdout",
     "output_type": "stream",
     "text": [
      "before\n",
      "after\n",
      "None\n"
     ]
    }
   ],
   "source": [
    "@decorate\n",
    "def give_hi():\n",
    "    return \"Hi\"\n",
    "\n",
    "result = give_hi()\n",
    "print(result)"
   ]
  },
  {
   "cell_type": "markdown",
   "metadata": {},
   "source": [
    "- 원래 함수의 'Hi'가 데코레이터에서는 리턴안됨\n",
    "- wrapper()함수에서 원래 리턴값을 보존해주지 않기 때문\n",
    "- -> 원래 함수의 리턴값을 변수에 저장해주기"
   ]
  },
  {
   "cell_type": "code",
   "execution_count": 30,
   "metadata": {},
   "outputs": [
    {
     "name": "stdout",
     "output_type": "stream",
     "text": [
      "before\n",
      "after\n"
     ]
    }
   ],
   "source": [
    "def decorater(func):\n",
    "    def wrapper(*args, **kwargs):\n",
    "        print('before')\n",
    "        value = func(*args, ** kwargs)\n",
    "        print('after')\n",
    "        return value\n",
    "    return wrapper\n",
    "\n",
    "@decorater\n",
    "def give_hi():\n",
    "    return 'Hi'\n",
    "\n",
    "result = give_hi()\n"
   ]
  },
  {
   "cell_type": "code",
   "execution_count": 31,
   "metadata": {},
   "outputs": [
    {
     "name": "stdout",
     "output_type": "stream",
     "text": [
      "Hi\n"
     ]
    }
   ],
   "source": [
    "print(result)"
   ]
  },
  {
   "cell_type": "markdown",
   "metadata": {},
   "source": [
    "## 2. 파이썬이 데커레이터를 실행하는 시점\n",
    "\n",
    "##### * 데커레이터\n",
    "- 데커레이트된 함수가 정의된 직후 실행\n",
    "- 파이썬이 모듈을 실해하는 시점, 즉 임포트 타임에 실행"
   ]
  },
  {
   "cell_type": "code",
   "execution_count": 13,
   "metadata": {},
   "outputs": [
    {
     "name": "stdout",
     "output_type": "stream",
     "text": [
      "running register(<function f1 at 0x000002B8C7363D00>\n",
      "running register(<function f2 at 0x000002B8C7363010>\n",
      "running main()\n",
      "registry -> [<function f1 at 0x000002B8C7363D00>, <function f2 at 0x000002B8C7363010>]\n",
      "running f1()\n",
      "running f2()\n",
      "running f3()\n"
     ]
    }
   ],
   "source": [
    "registry = []                              # registry : @register로 데커레이트된 함수들에 대한 참조 담는 list\n",
    "\n",
    "def register(func):                        # 함수를 인수로 받음\n",
    "    print('running register(%s'%func)      # 데커레이트된 함수 출력\n",
    "    registry.append(func)           \n",
    "    return func                            # func 함수를 반환 (여기서는 인수로 받은 함수를 그대로 반환)\n",
    "\n",
    "@register\n",
    "def f1():\n",
    "    print('running f1()')\n",
    "\n",
    "@register\n",
    "def f2():\n",
    "    print('running f2()')\n",
    "\n",
    "def f3():\n",
    "    print('running f3()')\n",
    "\n",
    "def main():\n",
    "    print('running main()')\n",
    "    print('registry ->', registry)\n",
    "    f1()\n",
    "    f2()\n",
    "    f3()\n",
    "\n",
    "if __name__== '__main__':\n",
    "    main()"
   ]
  },
  {
   "cell_type": "markdown",
   "metadata": {},
   "source": [
    "##### 함수 register() \n",
    "- register()은 제일 먼저 2번 실행.-> import time\n",
    "- 모듈이 임포트되자마자 실행\n",
    "  \n",
    "##### 데커레이트된 함수 f1(), f2() \n",
    "- 명시적으로  호출될 때만 실행됨-> 런타임(runtime)"
   ]
  },
  {
   "cell_type": "code",
   "execution_count": null,
   "metadata": {},
   "outputs": [],
   "source": []
  },
  {
   "cell_type": "markdown",
   "metadata": {},
   "source": []
  },
  {
   "cell_type": "markdown",
   "metadata": {},
   "source": [
    "##### Reference\n",
    "- [파이썬] 데코레이터 기본 사용법 : https://www.daleseo.com/python-decorators/\n",
    "- 전문가를 위한 파이썬(한빛미디어, 루시아누 하말류, 2016)"
   ]
  },
  {
   "cell_type": "markdown",
   "metadata": {},
   "source": []
  },
  {
   "cell_type": "markdown",
   "metadata": {},
   "source": []
  }
 ],
 "metadata": {
  "kernelspec": {
   "display_name": "Python 3.10.13 ('book')",
   "language": "python",
   "name": "python3"
  },
  "language_info": {
   "codemirror_mode": {
    "name": "ipython",
    "version": 3
   },
   "file_extension": ".py",
   "mimetype": "text/x-python",
   "name": "python",
   "nbconvert_exporter": "python",
   "pygments_lexer": "ipython3",
   "version": "3.10.13"
  },
  "orig_nbformat": 4,
  "vscode": {
   "interpreter": {
    "hash": "fbb9e52b27e1643625a5b3f8a7047453142bd39b43540a1ee4af44f044e42c0c"
   }
  }
 },
 "nbformat": 4,
 "nbformat_minor": 2
}
