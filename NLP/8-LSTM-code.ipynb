{
 "cells": [
  {
   "cell_type": "markdown",
   "metadata": {},
   "source": [
    "# LSTM\n",
    "- [Pytorch] LSTM을 이용한 삼성전자 주가 예측하기 :  https://coding-yoon.tistory.com/131 \n",
    "\n"
   ]
  },
  {
   "cell_type": "code",
   "execution_count": 19,
   "metadata": {},
   "outputs": [
    {
     "name": "stdout",
     "output_type": "stream",
     "text": [
      "^C\n"
     ]
    }
   ],
   "source": [
    "!pip uninstall charset-normalizer\n",
    "\n",
    "\n"
   ]
  },
  {
   "cell_type": "code",
   "execution_count": 21,
   "metadata": {},
   "outputs": [],
   "source": [
    "import numpy as np\n",
    "import pandas as pd\n",
    "# import pandas_datareader.data as pdr\n",
    "import datetime\n",
    "\n",
    "import torch\n",
    "import torch.nn as nn\n",
    "from torch.autograd import Variable\n",
    "\n",
    "import torch.optim as optim\n",
    "from torch.utils.data import Dataset, DataLoader\n",
    "\n"
   ]
  },
  {
   "cell_type": "markdown",
   "metadata": {},
   "source": [
    "## 1. dataset\n",
    "### 1) load"
   ]
  },
  {
   "cell_type": "code",
   "execution_count": 37,
   "metadata": {},
   "outputs": [],
   "source": [
    "import yahoo_fin.stock_info as si\n",
    "# from charset_normalizer import md__mypyc\n",
    "import yfinance as yf"
   ]
  },
  {
   "cell_type": "code",
   "execution_count": 56,
   "metadata": {},
   "outputs": [
    {
     "name": "stdout",
     "output_type": "stream",
     "text": [
      "04/01/20\n"
     ]
    }
   ],
   "source": [
    "start = '01/01/2000'\n",
    "# start = datetime.datetime(*start)\n",
    "\n",
    "# 현재\n",
    "end = datetime.date.today().strftime(\"%m/%d/%Y, %H:%M:%S\")[:8]\n",
    "print(end)"
   ]
  },
  {
   "cell_type": "code",
   "execution_count": 60,
   "metadata": {},
   "outputs": [
    {
     "name": "stdout",
     "output_type": "stream",
     "text": [
      "5095\n"
     ]
    },
    {
     "data": {
      "text/html": [
       "<div>\n",
       "<style scoped>\n",
       "    .dataframe tbody tr th:only-of-type {\n",
       "        vertical-align: middle;\n",
       "    }\n",
       "\n",
       "    .dataframe tbody tr th {\n",
       "        vertical-align: top;\n",
       "    }\n",
       "\n",
       "    .dataframe thead th {\n",
       "        text-align: right;\n",
       "    }\n",
       "</style>\n",
       "<table border=\"1\" class=\"dataframe\">\n",
       "  <thead>\n",
       "    <tr style=\"text-align: right;\">\n",
       "      <th></th>\n",
       "      <th>open</th>\n",
       "      <th>high</th>\n",
       "      <th>low</th>\n",
       "      <th>close</th>\n",
       "      <th>adjclose</th>\n",
       "      <th>volume</th>\n",
       "      <th>ticker</th>\n",
       "    </tr>\n",
       "  </thead>\n",
       "  <tbody>\n",
       "    <tr>\n",
       "      <th>2000-01-04</th>\n",
       "      <td>6000.0</td>\n",
       "      <td>6110.0</td>\n",
       "      <td>5660.0</td>\n",
       "      <td>6110.0</td>\n",
       "      <td>4469.932129</td>\n",
       "      <td>74195000</td>\n",
       "      <td>005930.KS</td>\n",
       "    </tr>\n",
       "    <tr>\n",
       "      <th>2000-01-05</th>\n",
       "      <td>5800.0</td>\n",
       "      <td>6060.0</td>\n",
       "      <td>5520.0</td>\n",
       "      <td>5580.0</td>\n",
       "      <td>4082.195801</td>\n",
       "      <td>74680000</td>\n",
       "      <td>005930.KS</td>\n",
       "    </tr>\n",
       "    <tr>\n",
       "      <th>2000-01-06</th>\n",
       "      <td>5750.0</td>\n",
       "      <td>5780.0</td>\n",
       "      <td>5580.0</td>\n",
       "      <td>5620.0</td>\n",
       "      <td>4111.459961</td>\n",
       "      <td>54390000</td>\n",
       "      <td>005930.KS</td>\n",
       "    </tr>\n",
       "    <tr>\n",
       "      <th>2000-01-07</th>\n",
       "      <td>5560.0</td>\n",
       "      <td>5670.0</td>\n",
       "      <td>5360.0</td>\n",
       "      <td>5540.0</td>\n",
       "      <td>4052.933594</td>\n",
       "      <td>40305000</td>\n",
       "      <td>005930.KS</td>\n",
       "    </tr>\n",
       "    <tr>\n",
       "      <th>2000-01-10</th>\n",
       "      <td>5600.0</td>\n",
       "      <td>5770.0</td>\n",
       "      <td>5580.0</td>\n",
       "      <td>5770.0</td>\n",
       "      <td>4221.195801</td>\n",
       "      <td>46880000</td>\n",
       "      <td>005930.KS</td>\n",
       "    </tr>\n",
       "  </tbody>\n",
       "</table>\n",
       "</div>"
      ],
      "text/plain": [
       "              open    high     low   close     adjclose    volume     ticker\n",
       "2000-01-04  6000.0  6110.0  5660.0  6110.0  4469.932129  74195000  005930.KS\n",
       "2000-01-05  5800.0  6060.0  5520.0  5580.0  4082.195801  74680000  005930.KS\n",
       "2000-01-06  5750.0  5780.0  5580.0  5620.0  4111.459961  54390000  005930.KS\n",
       "2000-01-07  5560.0  5670.0  5360.0  5540.0  4052.933594  40305000  005930.KS\n",
       "2000-01-10  5600.0  5770.0  5580.0  5770.0  4221.195801  46880000  005930.KS"
      ]
     },
     "execution_count": 60,
     "metadata": {},
     "output_type": "execute_result"
    }
   ],
   "source": [
    "df = si.get_data('005930.KS',\n",
    "                start_date= start,\n",
    "                end_date= end)\n",
    "\n",
    "print(len(df))\n",
    "df.head()"
   ]
  },
  {
   "cell_type": "code",
   "execution_count": 116,
   "metadata": {},
   "outputs": [
    {
     "data": {
      "text/plain": [
       "<Axes: >"
      ]
     },
     "execution_count": 116,
     "metadata": {},
     "output_type": "execute_result"
    },
    {
     "data": {
      "image/png": "[encoded data removed]",
      "text/plain": [
       "<Figure size 640x480 with 1 Axes>"
      ]
     },
     "metadata": {},
     "output_type": "display_data"
    }
   ],
   "source": [
    "df.close.plot(grid=True)"
   ]
  },
  {
   "cell_type": "markdown",
   "metadata": {},
   "source": [
    "### 2) preprocessing"
   ]
  },
  {
   "cell_type": "code",
   "execution_count": 127,
   "metadata": {},
   "outputs": [
    {
     "data": {
      "text/html": [
       "<div>\n",
       "<style scoped>\n",
       "    .dataframe tbody tr th:only-of-type {\n",
       "        vertical-align: middle;\n",
       "    }\n",
       "\n",
       "    .dataframe tbody tr th {\n",
       "        vertical-align: top;\n",
       "    }\n",
       "\n",
       "    .dataframe thead th {\n",
       "        text-align: right;\n",
       "    }\n",
       "</style>\n",
       "<table border=\"1\" class=\"dataframe\">\n",
       "  <thead>\n",
       "    <tr style=\"text-align: right;\">\n",
       "      <th></th>\n",
       "      <th>open</th>\n",
       "      <th>high</th>\n",
       "      <th>low</th>\n",
       "      <th>adjclose</th>\n",
       "    </tr>\n",
       "  </thead>\n",
       "  <tbody>\n",
       "    <tr>\n",
       "      <th>2000-01-04</th>\n",
       "      <td>6000.0</td>\n",
       "      <td>6110.0</td>\n",
       "      <td>5660.0</td>\n",
       "      <td>4469.932129</td>\n",
       "    </tr>\n",
       "    <tr>\n",
       "      <th>2000-01-05</th>\n",
       "      <td>5800.0</td>\n",
       "      <td>6060.0</td>\n",
       "      <td>5520.0</td>\n",
       "      <td>4082.195801</td>\n",
       "    </tr>\n",
       "    <tr>\n",
       "      <th>2000-01-06</th>\n",
       "      <td>5750.0</td>\n",
       "      <td>5780.0</td>\n",
       "      <td>5580.0</td>\n",
       "      <td>4111.459961</td>\n",
       "    </tr>\n",
       "    <tr>\n",
       "      <th>2000-01-07</th>\n",
       "      <td>5560.0</td>\n",
       "      <td>5670.0</td>\n",
       "      <td>5360.0</td>\n",
       "      <td>4052.933594</td>\n",
       "    </tr>\n",
       "    <tr>\n",
       "      <th>2000-01-10</th>\n",
       "      <td>5600.0</td>\n",
       "      <td>5770.0</td>\n",
       "      <td>5580.0</td>\n",
       "      <td>4221.195801</td>\n",
       "    </tr>\n",
       "  </tbody>\n",
       "</table>\n",
       "</div>"
      ],
      "text/plain": [
       "              open    high     low     adjclose\n",
       "2000-01-04  6000.0  6110.0  5660.0  4469.932129\n",
       "2000-01-05  5800.0  6060.0  5520.0  4082.195801\n",
       "2000-01-06  5750.0  5780.0  5580.0  4111.459961\n",
       "2000-01-07  5560.0  5670.0  5360.0  4052.933594\n",
       "2000-01-10  5600.0  5770.0  5580.0  4221.195801"
      ]
     },
     "execution_count": 127,
     "metadata": {},
     "output_type": "execute_result"
    }
   ],
   "source": [
    "X = df.drop(columns = ['volume', 'ticker', 'close'])\n",
    "y = df.iloc[:, 3:4]\n",
    "\n",
    "X.head()"
   ]
  },
  {
   "cell_type": "code",
   "execution_count": 128,
   "metadata": {},
   "outputs": [
    {
     "data": {
      "text/html": [
       "<div>\n",
       "<style scoped>\n",
       "    .dataframe tbody tr th:only-of-type {\n",
       "        vertical-align: middle;\n",
       "    }\n",
       "\n",
       "    .dataframe tbody tr th {\n",
       "        vertical-align: top;\n",
       "    }\n",
       "\n",
       "    .dataframe thead th {\n",
       "        text-align: right;\n",
       "    }\n",
       "</style>\n",
       "<table border=\"1\" class=\"dataframe\">\n",
       "  <thead>\n",
       "    <tr style=\"text-align: right;\">\n",
       "      <th></th>\n",
       "      <th>close</th>\n",
       "    </tr>\n",
       "  </thead>\n",
       "  <tbody>\n",
       "    <tr>\n",
       "      <th>2000-01-04</th>\n",
       "      <td>6110.0</td>\n",
       "    </tr>\n",
       "    <tr>\n",
       "      <th>2000-01-05</th>\n",
       "      <td>5580.0</td>\n",
       "    </tr>\n",
       "    <tr>\n",
       "      <th>2000-01-06</th>\n",
       "      <td>5620.0</td>\n",
       "    </tr>\n",
       "    <tr>\n",
       "      <th>2000-01-07</th>\n",
       "      <td>5540.0</td>\n",
       "    </tr>\n",
       "    <tr>\n",
       "      <th>2000-01-10</th>\n",
       "      <td>5770.0</td>\n",
       "    </tr>\n",
       "  </tbody>\n",
       "</table>\n",
       "</div>"
      ],
      "text/plain": [
       "             close\n",
       "2000-01-04  6110.0\n",
       "2000-01-05  5580.0\n",
       "2000-01-06  5620.0\n",
       "2000-01-07  5540.0\n",
       "2000-01-10  5770.0"
      ]
     },
     "execution_count": 128,
     "metadata": {},
     "output_type": "execute_result"
    }
   ],
   "source": [
    "y.head()"
   ]
  },
  {
   "cell_type": "markdown",
   "metadata": {},
   "source": [
    "#### 정규화"
   ]
  },
  {
   "cell_type": "code",
   "execution_count": 129,
   "metadata": {},
   "outputs": [],
   "source": [
    "from sklearn.preprocessing import StandardScaler, MinMaxScaler"
   ]
  },
  {
   "cell_type": "code",
   "execution_count": 130,
   "metadata": {},
   "outputs": [
    {
     "name": "stdout",
     "output_type": "stream",
     "text": [
      "train (4300, 4) (4300, 1)\n",
      "test (795, 4) (795, 1)\n"
     ]
    }
   ],
   "source": [
    "mm = MinMaxScaler()\n",
    "ss = StandardScaler()\n",
    "\n",
    "X_ss = ss.fit_transform(X)\n",
    "y_mm = mm.fit_transform(y)\n",
    "\n",
    "\n",
    "# train data\n",
    "X_train = X_ss[:4300, :]\n",
    "X_test = X_ss[4300:, : ]\n",
    "\n",
    "y_train = y_mm[:4300, : ]\n",
    "y_test = y_mm[4300:, :]\n",
    "\n",
    "print('train', X_train.shape, y_train.shape)\n",
    "print('test', X_test.shape, y_test.shape)\n"
   ]
  },
  {
   "cell_type": "markdown",
   "metadata": {},
   "source": [
    "#### to tensor"
   ]
  },
  {
   "cell_type": "code",
   "execution_count": 131,
   "metadata": {},
   "outputs": [
    {
     "name": "stdout",
     "output_type": "stream",
     "text": [
      "Training Shape torch.Size([4300, 1, 4]) torch.Size([4300, 1])\n",
      "Testing Shape torch.Size([795, 1, 4]) torch.Size([795, 1])\n"
     ]
    }
   ],
   "source": [
    "X_train = Variable(torch.Tensor(X_train))\n",
    "X_test = Variable(torch.Tensor(X_test))\n",
    "\n",
    "y_train = Variable(torch.Tensor(y_train))\n",
    "y_test = Variable(torch.Tensor(y_test))\n",
    "\n",
    "X_train_tensors = torch.reshape(X_train, (X_train.shape[0], 1, X_train.shape[1]))\n",
    "X_test_tensors = torch.reshape(X_test, (X_test.shape[0], 1, X_test.shape[1]))\n",
    "\n",
    "print(\"Training Shape\", X_train_tensors.shape, y_train.shape)\n",
    "print(\"Testing Shape\", X_test_tensors.shape, y_test.shape) \n"
   ]
  },
  {
   "cell_type": "markdown",
   "metadata": {},
   "source": [
    "### gpu"
   ]
  },
  {
   "cell_type": "code",
   "execution_count": 132,
   "metadata": {},
   "outputs": [
    {
     "name": "stdout",
     "output_type": "stream",
     "text": [
      "NVIDIA GeForce RTX 2080 Ti\n"
     ]
    }
   ],
   "source": [
    "device = torch.device(\"cuda:0\" if torch.cuda.is_available() else \"cpu\")  # device\n",
    "print(torch.cuda.get_device_name(0))\n"
   ]
  },
  {
   "cell_type": "markdown",
   "metadata": {},
   "source": [
    "## 2. model"
   ]
  },
  {
   "cell_type": "code",
   "execution_count": 133,
   "metadata": {},
   "outputs": [],
   "source": [
    "class LSTM(nn.Module):\n",
    "    def __init__(self, num_classes, input_size, hidden_size, num_layers, seq_length):\n",
    "        super(LSTM, self).__init__()\n",
    "        self.num_classes = num_classes\n",
    "        self.num_layers = num_layers\n",
    "        self.input_size = input_size\n",
    "        self.hidden_size = hidden_size\n",
    "        self.seq_length = seq_length\n",
    "\n",
    "        self.lstm = nn.LSTM(input_size = input_size,\n",
    "                            hidden_size = hidden_size,\n",
    "                            num_layers = num_layers,\n",
    "                            batch_first = True\n",
    "                            )\n",
    "\n",
    "        self.fc_1 = nn.Linear(hidden_size, 128)\n",
    "        self.fc = nn.Linear(128, num_classes)\n",
    "\n",
    "\n",
    "        self.relu = nn.ReLU()\n",
    "\n",
    "\n",
    "    def forward(self, x):\n",
    "        h_0 = Variable(torch.zeros(self.num_layers, x.size(0), self.hidden_size)).to(device)   # hidden state\n",
    "        c_0 = Variable(torch.zeros(self.num_layers, x.size(0), self.hidden_size)).to(device)   # internal state\n",
    "\n",
    "        output, (hn, cn) = self.lstm(x, (h_0, c_0))  # lstm sith input, hidden and internal state\n",
    "\n",
    "        hn = hn.view(-1, self.hidden_size)  # reshaping data for dense layer next\n",
    "        out = self.relu(hn)\n",
    "        out = self.fc_1(out)  # first Dense\n",
    "        out  = self.relu(out)\n",
    "        out = self.fc(out)  # final output\n",
    "\n",
    "\n",
    "        return out\n"
   ]
  },
  {
   "cell_type": "markdown",
   "metadata": {},
   "source": [
    "## hyperpamams"
   ]
  },
  {
   "cell_type": "code",
   "execution_count": 134,
   "metadata": {},
   "outputs": [],
   "source": [
    "num_epochs = 30000\n",
    "leraning_rate = 0.00001\n",
    "\n",
    "input_size = 4\n",
    "hidden_size =2\n",
    "num_layers = 1\n",
    "\n",
    "num_classes = 1"
   ]
  },
  {
   "cell_type": "code",
   "execution_count": 135,
   "metadata": {},
   "outputs": [],
   "source": [
    "lstm = LSTM(num_classes, input_size, hidden_size, num_layers, X_train_tensors.shape[0]).to(device)"
   ]
  },
  {
   "cell_type": "code",
   "execution_count": 136,
   "metadata": {},
   "outputs": [
    {
     "data": {
      "text/plain": [
       "LSTM(\n",
       "  (lstm): LSTM(4, 2, batch_first=True)\n",
       "  (fc_1): Linear(in_features=2, out_features=128, bias=True)\n",
       "  (fc): Linear(in_features=128, out_features=1, bias=True)\n",
       "  (relu): ReLU()\n",
       ")"
      ]
     },
     "execution_count": 136,
     "metadata": {},
     "output_type": "execute_result"
    }
   ],
   "source": [
    "lstm"
   ]
  },
  {
   "cell_type": "code",
   "execution_count": 137,
   "metadata": {},
   "outputs": [],
   "source": [
    "loss_function = torch.nn.MSELoss()\n",
    "optimizer = torch.optim.Adam(lstm.parameters(),lr = leraning_rate)"
   ]
  },
  {
   "cell_type": "markdown",
   "metadata": {},
   "source": [
    "## 학습"
   ]
  },
  {
   "cell_type": "code",
   "execution_count": 138,
   "metadata": {},
   "outputs": [
    {
     "name": "stdout",
     "output_type": "stream",
     "text": [
      "Epoch: 0, loss: 0.04204\n",
      "Epoch: 200, loss: 0.03158\n",
      "Epoch: 400, loss: 0.02590\n",
      "Epoch: 600, loss: 0.02311\n",
      "Epoch: 800, loss: 0.02182\n",
      "Epoch: 1000, loss: 0.02119\n",
      "Epoch: 1200, loss: 0.02080\n",
      "Epoch: 1400, loss: 0.02049\n",
      "Epoch: 1600, loss: 0.02021\n",
      "Epoch: 1800, loss: 0.01994\n",
      "Epoch: 2000, loss: 0.01965\n",
      "Epoch: 2200, loss: 0.01931\n",
      "Epoch: 2400, loss: 0.01891\n",
      "Epoch: 2600, loss: 0.01848\n",
      "Epoch: 2800, loss: 0.01801\n",
      "Epoch: 3000, loss: 0.01750\n",
      "Epoch: 3200, loss: 0.01695\n",
      "Epoch: 3400, loss: 0.01635\n",
      "Epoch: 3600, loss: 0.01570\n",
      "Epoch: 3800, loss: 0.01501\n",
      "Epoch: 4000, loss: 0.01429\n",
      "Epoch: 4200, loss: 0.01353\n",
      "Epoch: 4400, loss: 0.01275\n",
      "Epoch: 4600, loss: 0.01195\n",
      "Epoch: 4800, loss: 0.01113\n",
      "Epoch: 5000, loss: 0.01030\n",
      "Epoch: 5200, loss: 0.00948\n",
      "Epoch: 5400, loss: 0.00866\n",
      "Epoch: 5600, loss: 0.00785\n",
      "Epoch: 5800, loss: 0.00706\n",
      "Epoch: 6000, loss: 0.00630\n",
      "Epoch: 6200, loss: 0.00557\n",
      "Epoch: 6400, loss: 0.00488\n",
      "Epoch: 6600, loss: 0.00424\n",
      "Epoch: 6800, loss: 0.00364\n",
      "Epoch: 7000, loss: 0.00309\n",
      "Epoch: 7200, loss: 0.00259\n",
      "Epoch: 7400, loss: 0.00215\n",
      "Epoch: 7600, loss: 0.00176\n",
      "Epoch: 7800, loss: 0.00142\n",
      "Epoch: 8000, loss: 0.00114\n",
      "Epoch: 8200, loss: 0.00091\n",
      "Epoch: 8400, loss: 0.00073\n",
      "Epoch: 8600, loss: 0.00058\n",
      "Epoch: 8800, loss: 0.00048\n",
      "Epoch: 9000, loss: 0.00039\n",
      "Epoch: 9200, loss: 0.00034\n",
      "Epoch: 9400, loss: 0.00030\n",
      "Epoch: 9600, loss: 0.00027\n",
      "Epoch: 9800, loss: 0.00024\n",
      "Epoch: 10000, loss: 0.00023\n",
      "Epoch: 10200, loss: 0.00021\n",
      "Epoch: 10400, loss: 0.00020\n",
      "Epoch: 10600, loss: 0.00019\n",
      "Epoch: 10800, loss: 0.00017\n",
      "Epoch: 11000, loss: 0.00016\n",
      "Epoch: 11200, loss: 0.00015\n",
      "Epoch: 11400, loss: 0.00015\n",
      "Epoch: 11600, loss: 0.00014\n",
      "Epoch: 11800, loss: 0.00013\n",
      "Epoch: 12000, loss: 0.00013\n",
      "Epoch: 12200, loss: 0.00012\n",
      "Epoch: 12400, loss: 0.00011\n",
      "Epoch: 12600, loss: 0.00011\n",
      "Epoch: 12800, loss: 0.00010\n",
      "Epoch: 13000, loss: 0.00010\n",
      "Epoch: 13200, loss: 0.00010\n",
      "Epoch: 13400, loss: 0.00009\n",
      "Epoch: 13600, loss: 0.00009\n",
      "Epoch: 13800, loss: 0.00009\n",
      "Epoch: 14000, loss: 0.00008\n",
      "Epoch: 14200, loss: 0.00008\n",
      "Epoch: 14400, loss: 0.00008\n",
      "Epoch: 14600, loss: 0.00008\n",
      "Epoch: 14800, loss: 0.00007\n",
      "Epoch: 15000, loss: 0.00007\n",
      "Epoch: 15200, loss: 0.00007\n",
      "Epoch: 15400, loss: 0.00007\n",
      "Epoch: 15600, loss: 0.00006\n",
      "Epoch: 15800, loss: 0.00006\n",
      "Epoch: 16000, loss: 0.00006\n",
      "Epoch: 16200, loss: 0.00006\n",
      "Epoch: 16400, loss: 0.00005\n",
      "Epoch: 16600, loss: 0.00005\n",
      "Epoch: 16800, loss: 0.00005\n",
      "Epoch: 17000, loss: 0.00005\n",
      "Epoch: 17200, loss: 0.00005\n",
      "Epoch: 17400, loss: 0.00004\n",
      "Epoch: 17600, loss: 0.00004\n",
      "Epoch: 17800, loss: 0.00004\n",
      "Epoch: 18000, loss: 0.00004\n",
      "Epoch: 18200, loss: 0.00004\n",
      "Epoch: 18400, loss: 0.00004\n",
      "Epoch: 18600, loss: 0.00003\n",
      "Epoch: 18800, loss: 0.00003\n",
      "Epoch: 19000, loss: 0.00003\n",
      "Epoch: 19200, loss: 0.00003\n",
      "Epoch: 19400, loss: 0.00003\n",
      "Epoch: 19600, loss: 0.00003\n",
      "Epoch: 19800, loss: 0.00003\n",
      "Epoch: 20000, loss: 0.00003\n",
      "Epoch: 20200, loss: 0.00002\n",
      "Epoch: 20400, loss: 0.00002\n",
      "Epoch: 20600, loss: 0.00002\n",
      "Epoch: 20800, loss: 0.00002\n",
      "Epoch: 21000, loss: 0.00002\n",
      "Epoch: 21200, loss: 0.00002\n",
      "Epoch: 21400, loss: 0.00002\n",
      "Epoch: 21600, loss: 0.00002\n",
      "Epoch: 21800, loss: 0.00002\n",
      "Epoch: 22000, loss: 0.00002\n",
      "Epoch: 22200, loss: 0.00002\n",
      "Epoch: 22400, loss: 0.00002\n",
      "Epoch: 22600, loss: 0.00002\n",
      "Epoch: 22800, loss: 0.00002\n",
      "Epoch: 23000, loss: 0.00001\n",
      "Epoch: 23200, loss: 0.00001\n",
      "Epoch: 23400, loss: 0.00001\n",
      "Epoch: 23600, loss: 0.00001\n",
      "Epoch: 23800, loss: 0.00001\n",
      "Epoch: 24000, loss: 0.00001\n",
      "Epoch: 24200, loss: 0.00001\n",
      "Epoch: 24400, loss: 0.00001\n",
      "Epoch: 24600, loss: 0.00001\n",
      "Epoch: 24800, loss: 0.00001\n",
      "Epoch: 25000, loss: 0.00001\n",
      "Epoch: 25200, loss: 0.00001\n",
      "Epoch: 25400, loss: 0.00001\n",
      "Epoch: 25600, loss: 0.00001\n",
      "Epoch: 25800, loss: 0.00001\n",
      "Epoch: 26000, loss: 0.00001\n",
      "Epoch: 26200, loss: 0.00001\n",
      "Epoch: 26400, loss: 0.00001\n",
      "Epoch: 26600, loss: 0.00001\n",
      "Epoch: 26800, loss: 0.00001\n",
      "Epoch: 27000, loss: 0.00001\n",
      "Epoch: 27200, loss: 0.00001\n",
      "Epoch: 27400, loss: 0.00001\n",
      "Epoch: 27600, loss: 0.00001\n",
      "Epoch: 27800, loss: 0.00001\n",
      "Epoch: 28000, loss: 0.00001\n",
      "Epoch: 28200, loss: 0.00001\n",
      "Epoch: 28400, loss: 0.00001\n",
      "Epoch: 28600, loss: 0.00001\n",
      "Epoch: 28800, loss: 0.00001\n",
      "Epoch: 29000, loss: 0.00001\n",
      "Epoch: 29200, loss: 0.00001\n",
      "Epoch: 29400, loss: 0.00001\n",
      "Epoch: 29600, loss: 0.00001\n",
      "Epoch: 29800, loss: 0.00001\n"
     ]
    }
   ],
   "source": [
    "losses = []\n",
    "for epoch in range(num_epochs):\n",
    "    outout = lstm.forward(X_train_tensors.to(device))\n",
    "    optimizer.zero_grad()\n",
    "\n",
    "    loss = loss_function(outout, y_train.to(device))\n",
    "\n",
    "    loss.backward()\n",
    "\n",
    "    optimizer.step()\n",
    "\n",
    "    if epoch % 200 == 0:\n",
    "        losses.append(loss.item())\n",
    "        print('Epoch: %d, loss: %1.5f'%(epoch, loss.item()))"
   ]
  },
  {
   "cell_type": "code",
   "execution_count": 142,
   "metadata": {},
   "outputs": [
    {
     "data": {
      "text/plain": [
       "[<matplotlib.lines.Line2D at 0x130b62c6c20>]"
      ]
     },
     "execution_count": 142,
     "metadata": {},
     "output_type": "execute_result"
    },
    {
     "data": {
      "image/png": "[encoded data removed]",
      "text/plain": [
       "<Figure size 640x480 with 1 Axes>"
      ]
     },
     "metadata": {},
     "output_type": "display_data"
    }
   ],
   "source": [
    "plt.plot(losses)"
   ]
  },
  {
   "cell_type": "markdown",
   "metadata": {},
   "source": [
    "## 예측하기"
   ]
  },
  {
   "cell_type": "code",
   "execution_count": 143,
   "metadata": {},
   "outputs": [
    {
     "name": "stdout",
     "output_type": "stream",
     "text": [
      "testset shape: torch.Size([5095, 1, 4]) torch.Size([5095, 1])\n"
     ]
    }
   ],
   "source": [
    "df_X_ss = ss.transform(df.drop(columns = ['volume', 'ticker', 'close']))\n",
    "df_y_mm = mm.transform(df.iloc[:, 3:4])\n",
    "\n",
    "\n",
    "# converting to Tensors\n",
    "df_X_ss = Variable(torch.Tensor(df_X_ss)) \n",
    "df_y_mm = Variable(torch.Tensor(df_y_mm))\n",
    "\n",
    "# reshaping the dataset\n",
    "df_X_ss = torch.reshape(df_X_ss, (df_X_ss.shape[0], 1, df_X_ss.shape[1]))\n",
    "\n",
    "\n",
    "print('testset shape:', df_X_ss.shape, df_y_mm.shape)"
   ]
  },
  {
   "cell_type": "code",
   "execution_count": 144,
   "metadata": {},
   "outputs": [],
   "source": [
    "import matplotlib.pyplot as plt"
   ]
  },
  {
   "cell_type": "code",
   "execution_count": 145,
   "metadata": {},
   "outputs": [
    {
     "data": {
      "image/png": "[encoded data removed]",
      "text/plain": [
       "<Figure size 1000x600 with 1 Axes>"
      ]
     },
     "metadata": {},
     "output_type": "display_data"
    }
   ],
   "source": [
    "train_predict = lstm(df_X_ss.to(device))#forward pass\n",
    "data_predict = train_predict.data.detach().cpu().numpy() #numpy conversion\n",
    "dataY_plot = df_y_mm.data.numpy()\n",
    "\n",
    "data_predict = mm.inverse_transform(data_predict) #reverse transformation\n",
    "dataY_plot = mm.inverse_transform(dataY_plot)\n",
    "plt.figure(figsize=(10,6)) #plotting\n",
    "plt.axvline(x=4500, c='r', linestyle='--') #size of the training set\n",
    "\n",
    "plt.plot(dataY_plot, label='Actuall Data') #actual plot\n",
    "plt.plot(data_predict, label='Predicted Data') #predicted plot\n",
    "plt.title('Time-Series Prediction')\n",
    "plt.legend()\n",
    "plt.show() \n"
   ]
  },
  {
   "cell_type": "code",
   "execution_count": null,
   "metadata": {},
   "outputs": [],
   "source": []
  }
 ],
 "metadata": {
  "kernelspec": {
   "display_name": "Python 3.10.13 ('book')",
   "language": "python",
   "name": "python3"
  },
  "language_info": {
   "codemirror_mode": {
    "name": "ipython",
    "version": 3
   },
   "file_extension": ".py",
   "mimetype": "text/x-python",
   "name": "python",
   "nbconvert_exporter": "python",
   "pygments_lexer": "ipython3",
   "version": "3.10.13"
  },
  "orig_nbformat": 4,
  "vscode": {
   "interpreter": {
    "hash": "fbb9e52b27e1643625a5b3f8a7047453142bd39b43540a1ee4af44f044e42c0c"
   }
  }
 },
 "nbformat": 4,
 "nbformat_minor": 2
}
