{
 "cells": [
  {
   "cell_type": "markdown",
   "metadata": {},
   "source": [
    "# fastText\n",
    "\n",
    "\n",
    "### 토큰 처리 과정(하위 집단 생성)\n",
    "- character 기반의 N-gram 적용하여 입력 토큰 분해\n",
    "- 토큰의 양 끝에 '<'와 '>'을 붙여 토큰의 사작과 끝 인식\n",
    "- 분해된 토큰은 N-gram을 이용하여 하위 단어 집합으로 분해\n",
    "- 분해된 하위 집합에는 나눠지지 않은 토큰 자체도 포함\n",
    "\n",
    "### 임베딩 생성 \n",
    "- 하위 단어 집합에 있는 하위 단어의 임베딩 벡터 구하기\n",
    "- 구해진 벡터를 모두 합산하여 입력 단어의 최종 임베딩 벡터 계산\n",
    "\n",
    "### 성능\n",
    "1. 단어간 유사도 높임\n",
    "- 하위 단어 집합 : 단어의 부분 문자열을 고려하여 유연하고 정확한 하위 단어 집합 생성 가능\n",
    "- 하위 단어를 공유하는 단어(유사한 단어)끼리는 정보를 공유하여 학습 가능 -> 비슷한 임베딩 -> 단어간 유사도를 높일 수 있음.\n",
    "\n",
    "2. OOV\n",
    "   - 하위 단어들의 벡터를 합산하여 임베딩(SISG)\n",
    "   - 말뭉치에 등장하지 않은 단어라도 유사항 하위 단어를 갖고 있으면 유사한 임베딩 벡터 생성\n",
    "\n",
    "### Reference\n",
    "- 자연어처리와 컴퓨터비전 심층학습(위키북스, 윤대희 외 지음)\n",
    "- -https://frhyme.github.io/nlp/fasttext_pretrained_wiki/"
   ]
  },
  {
   "cell_type": "code",
   "execution_count": 14,
   "metadata": {},
   "outputs": [
    {
     "ename": "AttributeError",
     "evalue": "partially initialized module 'charset_normalizer' has no attribute 'md__mypyc' (most likely due to a circular import)",
     "output_type": "error",
     "traceback": [
      "\u001b[1;31m---------------------------------------------------------------------------\u001b[0m",
      "\u001b[1;31mModuleNotFoundError\u001b[0m                       Traceback (most recent call last)",
      "File \u001b[1;32mc:\\Users\\shiney\\anaconda3\\envs\\book\\lib\\site-packages\\requests\\compat.py:11\u001b[0m\n\u001b[0;32m     10\u001b[0m \u001b[39mtry\u001b[39;00m:\n\u001b[1;32m---> 11\u001b[0m     \u001b[39mimport\u001b[39;00m \u001b[39mchardet\u001b[39;00m\n\u001b[0;32m     12\u001b[0m \u001b[39mexcept\u001b[39;00m \u001b[39mImportError\u001b[39;00m:\n",
      "\u001b[1;31mModuleNotFoundError\u001b[0m: No module named 'chardet'",
      "\nDuring handling of the above exception, another exception occurred:\n",
      "\u001b[1;31mAttributeError\u001b[0m                            Traceback (most recent call last)",
      "Cell \u001b[1;32mIn[14], line 1\u001b[0m\n\u001b[1;32m----> 1\u001b[0m \u001b[38;5;28;01mfrom\u001b[39;00m \u001b[38;5;21;01mgensim\u001b[39;00m\u001b[38;5;21;01m.\u001b[39;00m\u001b[38;5;21;01mmodels\u001b[39;00m \u001b[38;5;28;01mimport\u001b[39;00m FastText \u001b[38;5;28;01mas\u001b[39;00m FT\n",
      "File \u001b[1;32mc:\\Users\\shiney\\anaconda3\\envs\\book\\lib\\site-packages\\gensim\\__init__.py:5\u001b[0m\n\u001b[0;32m      1\u001b[0m \u001b[39m\"\"\"This package contains interfaces and functionality to compute pair-wise document similarities within a corpus\u001b[39;00m\n\u001b[0;32m      2\u001b[0m \u001b[39mof documents.\u001b[39;00m\n\u001b[0;32m      3\u001b[0m \u001b[39m\"\"\"\u001b[39;00m\n\u001b[1;32m----> 5\u001b[0m \u001b[39mfrom\u001b[39;00m \u001b[39mgensim\u001b[39;00m \u001b[39mimport\u001b[39;00m parsing, corpora, matutils, interfaces, models, similarities, summarization, utils  \u001b[39m# noqa:F401\u001b[39;00m\n\u001b[0;32m      6\u001b[0m \u001b[39mimport\u001b[39;00m \u001b[39mlogging\u001b[39;00m\n\u001b[0;32m      8\u001b[0m __version__ \u001b[39m=\u001b[39m \u001b[39m'\u001b[39m\u001b[39m3.4.0\u001b[39m\u001b[39m'\u001b[39m\n",
      "File \u001b[1;32mc:\\Users\\shiney\\anaconda3\\envs\\book\\lib\\site-packages\\gensim\\parsing\\__init__.py:4\u001b[0m\n\u001b[0;32m      1\u001b[0m \u001b[39m\"\"\"This package contains functions to preprocess raw text\"\"\"\u001b[39;00m\n\u001b[0;32m      3\u001b[0m \u001b[39mfrom\u001b[39;00m \u001b[39m.\u001b[39;00m\u001b[39mporter\u001b[39;00m \u001b[39mimport\u001b[39;00m PorterStemmer  \u001b[39m# noqa:F401\u001b[39;00m\n\u001b[1;32m----> 4\u001b[0m \u001b[39mfrom\u001b[39;00m \u001b[39m.\u001b[39;00m\u001b[39mpreprocessing\u001b[39;00m \u001b[39mimport\u001b[39;00m (remove_stopwords, strip_punctuation, strip_punctuation2,  \u001b[39m# noqa:F401\u001b[39;00m\n\u001b[0;32m      5\u001b[0m                             strip_tags, strip_short, strip_numeric,\n\u001b[0;32m      6\u001b[0m                             strip_non_alphanum, strip_multiple_whitespaces,\n\u001b[0;32m      7\u001b[0m                             split_alphanum, stem_text, preprocess_string,\n\u001b[0;32m      8\u001b[0m                             preprocess_documents, read_file, read_files)\n",
      "File \u001b[1;32mc:\\Users\\shiney\\anaconda3\\envs\\book\\lib\\site-packages\\gensim\\parsing\\preprocessing.py:40\u001b[0m\n\u001b[0;32m     37\u001b[0m \u001b[39mimport\u001b[39;00m \u001b[39mstring\u001b[39;00m\n\u001b[0;32m     38\u001b[0m \u001b[39mimport\u001b[39;00m \u001b[39mglob\u001b[39;00m\n\u001b[1;32m---> 40\u001b[0m \u001b[39mfrom\u001b[39;00m \u001b[39mgensim\u001b[39;00m \u001b[39mimport\u001b[39;00m utils\n\u001b[0;32m     41\u001b[0m \u001b[39mfrom\u001b[39;00m \u001b[39mgensim\u001b[39;00m\u001b[39m.\u001b[39;00m\u001b[39mparsing\u001b[39;00m\u001b[39m.\u001b[39;00m\u001b[39mporter\u001b[39;00m \u001b[39mimport\u001b[39;00m PorterStemmer\n\u001b[0;32m     44\u001b[0m STOPWORDS \u001b[39m=\u001b[39m \u001b[39mfrozenset\u001b[39m([\n\u001b[0;32m     45\u001b[0m     \u001b[39m'\u001b[39m\u001b[39mall\u001b[39m\u001b[39m'\u001b[39m, \u001b[39m'\u001b[39m\u001b[39msix\u001b[39m\u001b[39m'\u001b[39m, \u001b[39m'\u001b[39m\u001b[39mjust\u001b[39m\u001b[39m'\u001b[39m, \u001b[39m'\u001b[39m\u001b[39mless\u001b[39m\u001b[39m'\u001b[39m, \u001b[39m'\u001b[39m\u001b[39mbeing\u001b[39m\u001b[39m'\u001b[39m, \u001b[39m'\u001b[39m\u001b[39mindeed\u001b[39m\u001b[39m'\u001b[39m, \u001b[39m'\u001b[39m\u001b[39mover\u001b[39m\u001b[39m'\u001b[39m, \u001b[39m'\u001b[39m\u001b[39mmove\u001b[39m\u001b[39m'\u001b[39m, \u001b[39m'\u001b[39m\u001b[39manyway\u001b[39m\u001b[39m'\u001b[39m, \u001b[39m'\u001b[39m\u001b[39mfour\u001b[39m\u001b[39m'\u001b[39m, \u001b[39m'\u001b[39m\u001b[39mnot\u001b[39m\u001b[39m'\u001b[39m, \u001b[39m'\u001b[39m\u001b[39mown\u001b[39m\u001b[39m'\u001b[39m, \u001b[39m'\u001b[39m\u001b[39mthrough\u001b[39m\u001b[39m'\u001b[39m,\n\u001b[0;32m     46\u001b[0m     \u001b[39m'\u001b[39m\u001b[39musing\u001b[39m\u001b[39m'\u001b[39m, \u001b[39m'\u001b[39m\u001b[39mfify\u001b[39m\u001b[39m'\u001b[39m, \u001b[39m'\u001b[39m\u001b[39mwhere\u001b[39m\u001b[39m'\u001b[39m, \u001b[39m'\u001b[39m\u001b[39mmill\u001b[39m\u001b[39m'\u001b[39m, \u001b[39m'\u001b[39m\u001b[39monly\u001b[39m\u001b[39m'\u001b[39m, \u001b[39m'\u001b[39m\u001b[39mfind\u001b[39m\u001b[39m'\u001b[39m, \u001b[39m'\u001b[39m\u001b[39mbefore\u001b[39m\u001b[39m'\u001b[39m, \u001b[39m'\u001b[39m\u001b[39mone\u001b[39m\u001b[39m'\u001b[39m, \u001b[39m'\u001b[39m\u001b[39mwhose\u001b[39m\u001b[39m'\u001b[39m, \u001b[39m'\u001b[39m\u001b[39msystem\u001b[39m\u001b[39m'\u001b[39m, \u001b[39m'\u001b[39m\u001b[39mhow\u001b[39m\u001b[39m'\u001b[39m, \u001b[39m'\u001b[39m\u001b[39msomewhere\u001b[39m\u001b[39m'\u001b[39m,\n\u001b[1;32m   (...)\u001b[0m\n\u001b[0;32m     72\u001b[0m     \u001b[39m'\u001b[39m\u001b[39mmake\u001b[39m\u001b[39m'\u001b[39m, \u001b[39m'\u001b[39m\u001b[39monce\u001b[39m\u001b[39m'\u001b[39m\n\u001b[0;32m     73\u001b[0m ])\n",
      "File \u001b[1;32mc:\\Users\\shiney\\anaconda3\\envs\\book\\lib\\site-packages\\gensim\\utils.py:44\u001b[0m\n\u001b[0;32m     41\u001b[0m \u001b[39mfrom\u001b[39;00m \u001b[39msix\u001b[39;00m \u001b[39mimport\u001b[39;00m iterkeys, iteritems, u, string_types, unichr\n\u001b[0;32m     42\u001b[0m \u001b[39mfrom\u001b[39;00m \u001b[39msix\u001b[39;00m\u001b[39m.\u001b[39;00m\u001b[39mmoves\u001b[39;00m \u001b[39mimport\u001b[39;00m xrange\n\u001b[1;32m---> 44\u001b[0m \u001b[39mfrom\u001b[39;00m \u001b[39msmart_open\u001b[39;00m \u001b[39mimport\u001b[39;00m smart_open\n\u001b[0;32m     46\u001b[0m \u001b[39mif\u001b[39;00m sys\u001b[39m.\u001b[39mversion_info[\u001b[39m0\u001b[39m] \u001b[39m>\u001b[39m\u001b[39m=\u001b[39m \u001b[39m3\u001b[39m:\n\u001b[0;32m     47\u001b[0m     unicode \u001b[39m=\u001b[39m \u001b[39mstr\u001b[39m\n",
      "File \u001b[1;32mc:\\Users\\shiney\\anaconda3\\envs\\book\\lib\\site-packages\\smart_open\\__init__.py:27\u001b[0m\n\u001b[0;32m     24\u001b[0m \u001b[39mimport\u001b[39;00m \u001b[39mlogging\u001b[39;00m\n\u001b[0;32m     25\u001b[0m \u001b[39mfrom\u001b[39;00m \u001b[39msmart_open\u001b[39;00m \u001b[39mimport\u001b[39;00m version\n\u001b[1;32m---> 27\u001b[0m \u001b[39mfrom\u001b[39;00m \u001b[39m.\u001b[39;00m\u001b[39msmart_open_lib\u001b[39;00m \u001b[39mimport\u001b[39;00m \u001b[39mopen\u001b[39m, smart_open, register_compressor\n\u001b[0;32m     28\u001b[0m \u001b[39mfrom\u001b[39;00m \u001b[39m.\u001b[39;00m\u001b[39ms3\u001b[39;00m \u001b[39mimport\u001b[39;00m iter_bucket \u001b[39mas\u001b[39;00m s3_iter_bucket\n\u001b[0;32m     29\u001b[0m __all__ \u001b[39m=\u001b[39m [\u001b[39m'\u001b[39m\u001b[39mopen\u001b[39m\u001b[39m'\u001b[39m, \u001b[39m'\u001b[39m\u001b[39msmart_open\u001b[39m\u001b[39m'\u001b[39m, \u001b[39m'\u001b[39m\u001b[39ms3_iter_bucket\u001b[39m\u001b[39m'\u001b[39m, \u001b[39m'\u001b[39m\u001b[39mregister_compressor\u001b[39m\u001b[39m'\u001b[39m]\n",
      "File \u001b[1;32mc:\\Users\\shiney\\anaconda3\\envs\\book\\lib\\site-packages\\smart_open\\smart_open_lib.py:42\u001b[0m\n\u001b[0;32m     40\u001b[0m \u001b[39mimport\u001b[39;00m \u001b[39msmart_open\u001b[39;00m\u001b[39m.\u001b[39;00m\u001b[39ms3\u001b[39;00m \u001b[39mas\u001b[39;00m \u001b[39msmart_open_s3\u001b[39;00m\n\u001b[0;32m     41\u001b[0m \u001b[39mimport\u001b[39;00m \u001b[39msmart_open\u001b[39;00m\u001b[39m.\u001b[39;00m\u001b[39mhdfs\u001b[39;00m \u001b[39mas\u001b[39;00m \u001b[39msmart_open_hdfs\u001b[39;00m\n\u001b[1;32m---> 42\u001b[0m \u001b[39mimport\u001b[39;00m \u001b[39msmart_open\u001b[39;00m\u001b[39m.\u001b[39;00m\u001b[39mwebhdfs\u001b[39;00m \u001b[39mas\u001b[39;00m \u001b[39msmart_open_webhdfs\u001b[39;00m\n\u001b[0;32m     43\u001b[0m \u001b[39mimport\u001b[39;00m \u001b[39msmart_open\u001b[39;00m\u001b[39m.\u001b[39;00m\u001b[39mhttp\u001b[39;00m \u001b[39mas\u001b[39;00m \u001b[39msmart_open_http\u001b[39;00m\n\u001b[0;32m     44\u001b[0m \u001b[39mimport\u001b[39;00m \u001b[39msmart_open\u001b[39;00m\u001b[39m.\u001b[39;00m\u001b[39mssh\u001b[39;00m \u001b[39mas\u001b[39;00m \u001b[39msmart_open_ssh\u001b[39;00m\n",
      "File \u001b[1;32mc:\\Users\\shiney\\anaconda3\\envs\\book\\lib\\site-packages\\smart_open\\webhdfs.py:18\u001b[0m\n\u001b[0;32m     15\u001b[0m \u001b[39mimport\u001b[39;00m \u001b[39mio\u001b[39;00m\n\u001b[0;32m     16\u001b[0m \u001b[39mimport\u001b[39;00m \u001b[39mlogging\u001b[39;00m\n\u001b[1;32m---> 18\u001b[0m \u001b[39mimport\u001b[39;00m \u001b[39mrequests\u001b[39;00m\n\u001b[0;32m     19\u001b[0m \u001b[39mimport\u001b[39;00m \u001b[39msix\u001b[39;00m\n\u001b[0;32m     21\u001b[0m \u001b[39mif\u001b[39;00m six\u001b[39m.\u001b[39mPY2:\n",
      "File \u001b[1;32mc:\\Users\\shiney\\anaconda3\\envs\\book\\lib\\site-packages\\requests\\__init__.py:45\u001b[0m\n\u001b[0;32m     41\u001b[0m \u001b[39mimport\u001b[39;00m \u001b[39mwarnings\u001b[39;00m\n\u001b[0;32m     43\u001b[0m \u001b[39mimport\u001b[39;00m \u001b[39murllib3\u001b[39;00m\n\u001b[1;32m---> 45\u001b[0m \u001b[39mfrom\u001b[39;00m \u001b[39m.\u001b[39;00m\u001b[39mexceptions\u001b[39;00m \u001b[39mimport\u001b[39;00m RequestsDependencyWarning\n\u001b[0;32m     47\u001b[0m \u001b[39mtry\u001b[39;00m:\n\u001b[0;32m     48\u001b[0m     \u001b[39mfrom\u001b[39;00m \u001b[39mcharset_normalizer\u001b[39;00m \u001b[39mimport\u001b[39;00m __version__ \u001b[39mas\u001b[39;00m charset_normalizer_version\n",
      "File \u001b[1;32mc:\\Users\\shiney\\anaconda3\\envs\\book\\lib\\site-packages\\requests\\exceptions.py:9\u001b[0m\n\u001b[0;32m      1\u001b[0m \u001b[39m\"\"\"\u001b[39;00m\n\u001b[0;32m      2\u001b[0m \u001b[39mrequests.exceptions\u001b[39;00m\n\u001b[0;32m      3\u001b[0m \u001b[39m~~~~~~~~~~~~~~~~~~~\u001b[39;00m\n\u001b[0;32m      4\u001b[0m \n\u001b[0;32m      5\u001b[0m \u001b[39mThis module contains the set of Requests' exceptions.\u001b[39;00m\n\u001b[0;32m      6\u001b[0m \u001b[39m\"\"\"\u001b[39;00m\n\u001b[0;32m      7\u001b[0m \u001b[39mfrom\u001b[39;00m \u001b[39murllib3\u001b[39;00m\u001b[39m.\u001b[39;00m\u001b[39mexceptions\u001b[39;00m \u001b[39mimport\u001b[39;00m HTTPError \u001b[39mas\u001b[39;00m BaseHTTPError\n\u001b[1;32m----> 9\u001b[0m \u001b[39mfrom\u001b[39;00m \u001b[39m.\u001b[39;00m\u001b[39mcompat\u001b[39;00m \u001b[39mimport\u001b[39;00m JSONDecodeError \u001b[39mas\u001b[39;00m CompatJSONDecodeError\n\u001b[0;32m     12\u001b[0m \u001b[39mclass\u001b[39;00m \u001b[39mRequestException\u001b[39;00m(\u001b[39mIOError\u001b[39;00m):\n\u001b[0;32m     13\u001b[0m \u001b[39m    \u001b[39m\u001b[39m\"\"\"There was an ambiguous exception that occurred while handling your\u001b[39;00m\n\u001b[0;32m     14\u001b[0m \u001b[39m    request.\u001b[39;00m\n\u001b[0;32m     15\u001b[0m \u001b[39m    \"\"\"\u001b[39;00m\n",
      "File \u001b[1;32mc:\\Users\\shiney\\anaconda3\\envs\\book\\lib\\site-packages\\requests\\compat.py:13\u001b[0m\n\u001b[0;32m     11\u001b[0m     \u001b[39mimport\u001b[39;00m \u001b[39mchardet\u001b[39;00m\n\u001b[0;32m     12\u001b[0m \u001b[39mexcept\u001b[39;00m \u001b[39mImportError\u001b[39;00m:\n\u001b[1;32m---> 13\u001b[0m     \u001b[39mimport\u001b[39;00m \u001b[39mcharset_normalizer\u001b[39;00m \u001b[39mas\u001b[39;00m \u001b[39mchardet\u001b[39;00m\n\u001b[0;32m     15\u001b[0m \u001b[39mimport\u001b[39;00m \u001b[39msys\u001b[39;00m\n\u001b[0;32m     17\u001b[0m \u001b[39m# -------\u001b[39;00m\n\u001b[0;32m     18\u001b[0m \u001b[39m# Pythons\u001b[39;00m\n\u001b[0;32m     19\u001b[0m \u001b[39m# -------\u001b[39;00m\n\u001b[0;32m     20\u001b[0m \n\u001b[0;32m     21\u001b[0m \u001b[39m# Syntax sugar.\u001b[39;00m\n",
      "File \u001b[1;32mc:\\Users\\shiney\\anaconda3\\envs\\book\\lib\\site-packages\\charset_normalizer\\__init__.py:23\u001b[0m\n\u001b[0;32m      1\u001b[0m \u001b[39m\"\"\"\u001b[39;00m\n\u001b[0;32m      2\u001b[0m \u001b[39mCharset-Normalizer\u001b[39;00m\n\u001b[0;32m      3\u001b[0m \u001b[39m~~~~~~~~~~~~~~\u001b[39;00m\n\u001b[1;32m   (...)\u001b[0m\n\u001b[0;32m     21\u001b[0m \u001b[39m:license: MIT, see LICENSE for more details.\u001b[39;00m\n\u001b[0;32m     22\u001b[0m \u001b[39m\"\"\"\u001b[39;00m\n\u001b[1;32m---> 23\u001b[0m \u001b[39mfrom\u001b[39;00m \u001b[39mcharset_normalizer\u001b[39;00m\u001b[39m.\u001b[39;00m\u001b[39mapi\u001b[39;00m \u001b[39mimport\u001b[39;00m from_fp, from_path, from_bytes, normalize\n\u001b[0;32m     24\u001b[0m \u001b[39mfrom\u001b[39;00m \u001b[39mcharset_normalizer\u001b[39;00m\u001b[39m.\u001b[39;00m\u001b[39mlegacy\u001b[39;00m \u001b[39mimport\u001b[39;00m detect\n\u001b[0;32m     25\u001b[0m \u001b[39mfrom\u001b[39;00m \u001b[39mcharset_normalizer\u001b[39;00m\u001b[39m.\u001b[39;00m\u001b[39mversion\u001b[39;00m \u001b[39mimport\u001b[39;00m __version__, VERSION\n",
      "File \u001b[1;32mc:\\Users\\shiney\\anaconda3\\envs\\book\\lib\\site-packages\\charset_normalizer\\api.py:10\u001b[0m\n\u001b[0;32m      7\u001b[0m     PathLike \u001b[39m=\u001b[39m Union[\u001b[39mstr\u001b[39m, \u001b[39m'\u001b[39m\u001b[39mos.PathLike[str]\u001b[39m\u001b[39m'\u001b[39m]  \u001b[39m# type: ignore\u001b[39;00m\n\u001b[0;32m      9\u001b[0m \u001b[39mfrom\u001b[39;00m \u001b[39mcharset_normalizer\u001b[39;00m\u001b[39m.\u001b[39;00m\u001b[39mconstant\u001b[39;00m \u001b[39mimport\u001b[39;00m TOO_SMALL_SEQUENCE, TOO_BIG_SEQUENCE, IANA_SUPPORTED\n\u001b[1;32m---> 10\u001b[0m \u001b[39mfrom\u001b[39;00m \u001b[39mcharset_normalizer\u001b[39;00m\u001b[39m.\u001b[39;00m\u001b[39mmd\u001b[39;00m \u001b[39mimport\u001b[39;00m mess_ratio\n\u001b[0;32m     11\u001b[0m \u001b[39mfrom\u001b[39;00m \u001b[39mcharset_normalizer\u001b[39;00m\u001b[39m.\u001b[39;00m\u001b[39mmodels\u001b[39;00m \u001b[39mimport\u001b[39;00m CharsetMatches, CharsetMatch\n\u001b[0;32m     12\u001b[0m \u001b[39mfrom\u001b[39;00m \u001b[39mwarnings\u001b[39;00m \u001b[39mimport\u001b[39;00m warn\n",
      "\u001b[1;31mAttributeError\u001b[0m: partially initialized module 'charset_normalizer' has no attribute 'md__mypyc' (most likely due to a circular import)"
     ]
    }
   ],
   "source": [
    "from gensim.models import FastText as FT"
   ]
  },
  {
   "cell_type": "code",
   "execution_count": 8,
   "metadata": {},
   "outputs": [
    {
     "name": "stdout",
     "output_type": "stream",
     "text": [
      "Collecting smart_open==1.9.0\n",
      "  Using cached smart_open-1.9.0-py3-none-any.whl\n",
      "Requirement already satisfied: boto>=2.32 in c:\\users\\shiney\\anaconda3\\envs\\book\\lib\\site-packages (from smart_open==1.9.0) (2.49.0)\n",
      "Requirement already satisfied: requests in c:\\users\\shiney\\anaconda3\\envs\\book\\lib\\site-packages (from smart_open==1.9.0) (2.31.0)\n",
      "Requirement already satisfied: boto3 in c:\\users\\shiney\\anaconda3\\envs\\book\\lib\\site-packages (from smart_open==1.9.0) (1.34.62)\n",
      "Requirement already satisfied: botocore<1.35.0,>=1.34.62 in c:\\users\\shiney\\anaconda3\\envs\\book\\lib\\site-packages (from boto3->smart_open==1.9.0) (1.34.62)\n",
      "Requirement already satisfied: jmespath<2.0.0,>=0.7.1 in c:\\users\\shiney\\anaconda3\\envs\\book\\lib\\site-packages (from boto3->smart_open==1.9.0) (1.0.1)\n",
      "Requirement already satisfied: s3transfer<0.11.0,>=0.10.0 in c:\\users\\shiney\\anaconda3\\envs\\book\\lib\\site-packages (from boto3->smart_open==1.9.0) (0.10.0)\n",
      "Requirement already satisfied: charset-normalizer<4,>=2 in c:\\users\\shiney\\anaconda3\\envs\\book\\lib\\site-packages (from requests->smart_open==1.9.0) (2.0.4)\n",
      "Requirement already satisfied: idna<4,>=2.5 in c:\\users\\shiney\\anaconda3\\envs\\book\\lib\\site-packages (from requests->smart_open==1.9.0) (3.4)\n",
      "Requirement already satisfied: urllib3<3,>=1.21.1 in c:\\users\\shiney\\anaconda3\\envs\\book\\lib\\site-packages (from requests->smart_open==1.9.0) (2.0.7)\n",
      "Requirement already satisfied: certifi>=2017.4.17 in c:\\users\\shiney\\anaconda3\\envs\\book\\lib\\site-packages (from requests->smart_open==1.9.0) (2024.2.2)\n",
      "Requirement already satisfied: python-dateutil<3.0.0,>=2.1 in c:\\users\\shiney\\anaconda3\\envs\\book\\lib\\site-packages (from botocore<1.35.0,>=1.34.62->boto3->smart_open==1.9.0) (2.8.2)\n",
      "Requirement already satisfied: six>=1.5 in c:\\users\\shiney\\anaconda3\\envs\\book\\lib\\site-packages (from python-dateutil<3.0.0,>=2.1->botocore<1.35.0,>=1.34.62->boto3->smart_open==1.9.0) (1.16.0)\n",
      "Installing collected packages: smart_open\n",
      "  Attempting uninstall: smart_open\n",
      "    Found existing installation: smart-open 7.0.1\n",
      "    Uninstalling smart-open-7.0.1:\n",
      "      Successfully uninstalled smart-open-7.0.1\n",
      "Successfully installed smart_open-1.9.0\n"
     ]
    }
   ],
   "source": [
    "!pip install smart_open==1.9.0\n"
   ]
  },
  {
   "cell_type": "code",
   "execution_count": 10,
   "metadata": {},
   "outputs": [
    {
     "name": "stdout",
     "output_type": "stream",
     "text": [
      "Requirement already satisfied: gensim==3.4.0 in c:\\users\\shiney\\anaconda3\\envs\\book\\lib\\site-packages (3.4.0)\n",
      "Requirement already satisfied: numpy>=1.11.3 in c:\\users\\shiney\\anaconda3\\envs\\book\\lib\\site-packages (from gensim==3.4.0) (1.26.4)\n",
      "Requirement already satisfied: scipy>=0.18.1 in c:\\users\\shiney\\anaconda3\\envs\\book\\lib\\site-packages (from gensim==3.4.0) (1.12.0)\n",
      "Requirement already satisfied: six>=1.5.0 in c:\\users\\shiney\\anaconda3\\envs\\book\\lib\\site-packages (from gensim==3.4.0) (1.16.0)\n",
      "Requirement already satisfied: smart-open>=1.2.1 in c:\\users\\shiney\\anaconda3\\envs\\book\\lib\\site-packages (from gensim==3.4.0) (1.9.0)\n",
      "Requirement already satisfied: boto>=2.32 in c:\\users\\shiney\\anaconda3\\envs\\book\\lib\\site-packages (from smart-open>=1.2.1->gensim==3.4.0) (2.49.0)\n",
      "Requirement already satisfied: requests in c:\\users\\shiney\\anaconda3\\envs\\book\\lib\\site-packages (from smart-open>=1.2.1->gensim==3.4.0) (2.31.0)\n",
      "Requirement already satisfied: boto3 in c:\\users\\shiney\\anaconda3\\envs\\book\\lib\\site-packages (from smart-open>=1.2.1->gensim==3.4.0) (1.34.62)\n",
      "Requirement already satisfied: botocore<1.35.0,>=1.34.62 in c:\\users\\shiney\\anaconda3\\envs\\book\\lib\\site-packages (from boto3->smart-open>=1.2.1->gensim==3.4.0) (1.34.62)\n",
      "Requirement already satisfied: jmespath<2.0.0,>=0.7.1 in c:\\users\\shiney\\anaconda3\\envs\\book\\lib\\site-packages (from boto3->smart-open>=1.2.1->gensim==3.4.0) (1.0.1)\n",
      "Requirement already satisfied: s3transfer<0.11.0,>=0.10.0 in c:\\users\\shiney\\anaconda3\\envs\\book\\lib\\site-packages (from boto3->smart-open>=1.2.1->gensim==3.4.0) (0.10.0)\n",
      "Requirement already satisfied: charset-normalizer<4,>=2 in c:\\users\\shiney\\anaconda3\\envs\\book\\lib\\site-packages (from requests->smart-open>=1.2.1->gensim==3.4.0) (2.0.4)\n",
      "Requirement already satisfied: idna<4,>=2.5 in c:\\users\\shiney\\anaconda3\\envs\\book\\lib\\site-packages (from requests->smart-open>=1.2.1->gensim==3.4.0) (3.4)\n",
      "Requirement already satisfied: urllib3<3,>=1.21.1 in c:\\users\\shiney\\anaconda3\\envs\\book\\lib\\site-packages (from requests->smart-open>=1.2.1->gensim==3.4.0) (2.0.7)\n",
      "Requirement already satisfied: certifi>=2017.4.17 in c:\\users\\shiney\\anaconda3\\envs\\book\\lib\\site-packages (from requests->smart-open>=1.2.1->gensim==3.4.0) (2024.2.2)\n",
      "Requirement already satisfied: python-dateutil<3.0.0,>=2.1 in c:\\users\\shiney\\anaconda3\\envs\\book\\lib\\site-packages (from botocore<1.35.0,>=1.34.62->boto3->smart-open>=1.2.1->gensim==3.4.0) (2.8.2)\n"
     ]
    }
   ],
   "source": [
    "!pip install gensim==3.4.0\n"
   ]
  },
  {
   "cell_type": "code",
   "execution_count": null,
   "metadata": {},
   "outputs": [],
   "source": []
  }
 ],
 "metadata": {
  "kernelspec": {
   "display_name": "Python 3.10.13 ('book')",
   "language": "python",
   "name": "python3"
  },
  "language_info": {
   "codemirror_mode": {
    "name": "ipython",
    "version": 3
   },
   "file_extension": ".py",
   "mimetype": "text/x-python",
   "name": "python",
   "nbconvert_exporter": "python",
   "pygments_lexer": "ipython3",
   "version": "3.10.13"
  },
  "orig_nbformat": 4,
  "vscode": {
   "interpreter": {
    "hash": "fbb9e52b27e1643625a5b3f8a7047453142bd39b43540a1ee4af44f044e42c0c"
   }
  }
 },
 "nbformat": 4,
 "nbformat_minor": 2
}
