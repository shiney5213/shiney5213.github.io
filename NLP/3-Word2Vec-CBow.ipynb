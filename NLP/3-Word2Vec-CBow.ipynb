{
 "cells": [
  {
   "cell_type": "markdown",
   "metadata": {},
   "source": [
    "# CBoW(Continuous Bag of Words)\n",
    "- 주변 단어(Context Word)로 중심 단어(Center Word, target)를 예측하는 방법\n",
    "- 윈도우(Window): 중심 단어를 맞추기 위해 몇개의 주변 단어를 고려할지 정하는 범위\n",
    "- 슬라이딩 윈도우(Sliding Window): 학습을 위해 윈도우를 이동하면서 학습하는 방법"
   ]
  },
  {
   "cell_type": "markdown",
   "metadata": {},
   "source": [
    "![CBoW Model](../assets/img/nlp/3-Word2Vec-CBoW.png)"
   ]
  },
  {
   "cell_type": "markdown",
   "metadata": {},
   "source": [
    "## 모델\n",
    "### 1)입력층\n",
    "- 윈도우(맥락 단어의 개수)가 2개인 경우 입력레이어 2개를 은닉층과 완전연결계층으로 연결\n",
    "- 가중치 W_in : 단어의 `분산 표현`-> 학습하면서 target단어를 잘 예측할 수 있도록 분산 표현이 갱신\n",
    "  \n",
    "### 2)은닉층\n",
    "- 입력층이 여러개인 경우 전체의 `평균`으로 구함\n",
    "- 입력층의 단어의 개수보다 은닉층 뉴런의 개수가 적어야 함 \n",
    "  > 단어 예측에 필요한 정보를 간결하게 얻을 수 있음 <br>\n",
    "  > 결과적으로 희소벡터가 아닌 밀집 벡터 표현을 얻을 수 있음.\n",
    "\n",
    "### 3)출력층\n",
    "- 출력층 뉴런의 개수: 단어의 개수와 동일\n",
    "- softmax함수를 사용하여 각 단어가 target일 확률로 변환\n",
    "\n",
    "## embedding\n"
   ]
  },
  {
   "cell_type": "markdown",
   "metadata": {},
   "source": [
    "## 코딩\n",
    "- https://github.com/rickiepark/nlp-with-pytorch/blob/main/chapter_5/5_2_CBOW/5_2_Continuous_Bag_of_Words_CBOW.ipynb 참고\n",
    "### 1. data\n",
    "- dataset : http://bit.ly/2T5iU8J 에서 메리 셸리의 소설 [프랑켄슈타인]의 디지털 버전을 받아 구축한 텍스트 데이터셋 활용"
   ]
  },
  {
   "cell_type": "code",
   "execution_count": 29,
   "metadata": {},
   "outputs": [],
   "source": [
    "import os\n",
    "from argparse import Namespace\n",
    "import collections\n",
    "import nltk.data\n",
    "import numpy as np\n",
    "import pandas as pd\n",
    "import re\n",
    "import string\n",
    "from  tqdm import tqdm"
   ]
  },
  {
   "cell_type": "code",
   "execution_count": 30,
   "metadata": {},
   "outputs": [],
   "source": [
    "\n",
    "args = Namespace(\n",
    "    raw_dataset_txt = \"../assets/data/nlp/3_Word2Vec_CBoW_frankenstein.txt\",\n",
    "    window_size = 5,\n",
    "    train_proportion = 0.7,\n",
    "    val_proportion = 0.15,\n",
    "    test_proportion = 0.15,\n",
    "    output_munged_csv=\"../assets/data/nlp/3_Word2Vec_CBoW_frankenstein_with_splits.csv\",\n",
    "    seed=42\n",
    ")\n"
   ]
  },
  {
   "cell_type": "markdown",
   "metadata": {},
   "source": [
    "####  1) data preprocessing"
   ]
  },
  {
   "cell_type": "code",
   "execution_count": 31,
   "metadata": {},
   "outputs": [
    {
     "name": "stderr",
     "output_type": "stream",
     "text": [
      "[nltk_data] Downloading package punkt to\n",
      "[nltk_data]     C:\\Users\\shiney\\AppData\\Roaming\\nltk_data...\n",
      "[nltk_data]   Package punkt is already up-to-date!\n"
     ]
    },
    {
     "data": {
      "text/plain": [
       "True"
      ]
     },
     "execution_count": 31,
     "metadata": {},
     "output_type": "execute_result"
    }
   ],
   "source": [
    "nltk.download('punkt')\n"
   ]
  },
  {
   "cell_type": "code",
   "execution_count": 32,
   "metadata": {},
   "outputs": [
    {
     "name": "stdout",
     "output_type": "stream",
     "text": [
      "3206\n",
      "sample:  I dare not expect such success, yet I cannot bear to look on the reverse of the picture.\n"
     ]
    }
   ],
   "source": [
    "# Split the raw text into sentences\n",
    "tokenizer =nltk.data.load('tokenizers/punkt/english.pickle')\n",
    "\n",
    "with open(args.raw_dataset_txt, encoding = 'UTF8') as fp:\n",
    "    book = fp.read()\n",
    "sentences = tokenizer.tokenize(book)\n",
    "\n",
    "print(len(sentences))\n",
    "print(\"sample: \", sentences[100])"
   ]
  },
  {
   "cell_type": "code",
   "execution_count": 33,
   "metadata": {},
   "outputs": [
    {
     "name": "stdout",
     "output_type": "stream",
     "text": [
      "before cleaning:  Again shall you raise the funeral wail, and the sound of your lamentations shall again and again be heard!\n",
      "after cleaning:  again shall you raise the funeral wail , and the sound of your lamentations shall again and again be heard ! \n"
     ]
    }
   ],
   "source": [
    "# clean sentences\n",
    "def preprocess_text(text):\n",
    "    text = ' '.join(word.lower() for word in text.split(\" \"))\n",
    "    text = re.sub(r\"([.,!?])\", r\" \\1 \", text)\n",
    "    text = re.sub(r\"[^a-zA-Z.,!?]+\", r\" \", text)\n",
    "    return text\n",
    "\n",
    "cleaned_sentences = [preprocess_text(sentence) for sentence in sentences]\n",
    "\n",
    "num = 1100\n",
    "print(\"before cleaning: \", sentences[num])\n",
    "print(\"after cleaning: \", cleaned_sentences[num])"
   ]
  },
  {
   "cell_type": "markdown",
   "metadata": {},
   "source": [
    "#### 2) CBow dataset 만들기 "
   ]
  },
  {
   "cell_type": "code",
   "execution_count": 34,
   "metadata": {},
   "outputs": [
    {
     "name": "stderr",
     "output_type": "stream",
     "text": [
      "100%|██████████| 3206/3206 [00:00<00:00, 54484.50it/s]"
     ]
    },
    {
     "name": "stdout",
     "output_type": "stream",
     "text": [
      "3206 ->  90570\n",
      "sample: ('<MASK>', '<MASK>', '<MASK>', '<MASK>', '<MASK>', 'the', 'project', 'gutenberg', 'ebook', 'of', 'frankenstein')\n"
     ]
    },
    {
     "name": "stderr",
     "output_type": "stream",
     "text": [
      "\n"
     ]
    }
   ],
   "source": [
    "# Global vars\n",
    "MASK_TOKEN = \"<MASK>\"\n",
    "\n",
    "# Create windows\n",
    "flatten = lambda outer_list: [item for inner_list in outer_list for item in inner_list]\n",
    "windows = flatten([list(nltk.ngrams([MASK_TOKEN] * args.window_size + sentence.split(' ') + \\\n",
    "    [MASK_TOKEN] * args.window_size, args.window_size * 2 + 1)) \\\n",
    "    for sentence in tqdm(cleaned_sentences)])\n",
    "\n",
    "\n",
    "print(len(cleaned_sentences) ,'-> ',len(windows))\n",
    "print('sample:', windows[0])"
   ]
  },
  {
   "cell_type": "code",
   "execution_count": 35,
   "metadata": {},
   "outputs": [
    {
     "name": "stderr",
     "output_type": "stream",
     "text": [
      "100%|██████████| 90570/90570 [00:00<00:00, 180228.35it/s]\n"
     ]
    },
    {
     "name": "stdout",
     "output_type": "stream",
     "text": [
      "90570\n",
      "['project gutenberg ebook of frankenstein', 'the']\n",
      "['the gutenberg ebook of frankenstein ,', 'project']\n"
     ]
    }
   ],
   "source": [
    "data = []\n",
    "\n",
    "for window in tqdm(windows):\n",
    "    target_token = window[args.window_size]\n",
    "    context = []\n",
    "    for i, token in enumerate(window):\n",
    "        if token == MASK_TOKEN or i == args.window_size:\n",
    "            continue\n",
    "        else:\n",
    "            context.append(token)\n",
    "    data.append([' '.join(token for token in context),target_token])\n",
    "\n",
    "print(len(data))\n",
    "print(data[0])\n",
    "print(data[1])"
   ]
  },
  {
   "cell_type": "code",
   "execution_count": 36,
   "metadata": {},
   "outputs": [
    {
     "data": {
      "text/html": [
       "<div>\n",
       "<style scoped>\n",
       "    .dataframe tbody tr th:only-of-type {\n",
       "        vertical-align: middle;\n",
       "    }\n",
       "\n",
       "    .dataframe tbody tr th {\n",
       "        vertical-align: top;\n",
       "    }\n",
       "\n",
       "    .dataframe thead th {\n",
       "        text-align: right;\n",
       "    }\n",
       "</style>\n",
       "<table border=\"1\" class=\"dataframe\">\n",
       "  <thead>\n",
       "    <tr style=\"text-align: right;\">\n",
       "      <th></th>\n",
       "      <th>context</th>\n",
       "      <th>target</th>\n",
       "    </tr>\n",
       "  </thead>\n",
       "  <tbody>\n",
       "    <tr>\n",
       "      <th>0</th>\n",
       "      <td>project gutenberg ebook of frankenstein</td>\n",
       "      <td>the</td>\n",
       "    </tr>\n",
       "    <tr>\n",
       "      <th>1</th>\n",
       "      <td>the gutenberg ebook of frankenstein ,</td>\n",
       "      <td>project</td>\n",
       "    </tr>\n",
       "    <tr>\n",
       "      <th>2</th>\n",
       "      <td>the project ebook of frankenstein , by</td>\n",
       "      <td>gutenberg</td>\n",
       "    </tr>\n",
       "    <tr>\n",
       "      <th>3</th>\n",
       "      <td>the project gutenberg of frankenstein , by mary</td>\n",
       "      <td>ebook</td>\n",
       "    </tr>\n",
       "    <tr>\n",
       "      <th>4</th>\n",
       "      <td>the project gutenberg ebook frankenstein , by ...</td>\n",
       "      <td>of</td>\n",
       "    </tr>\n",
       "  </tbody>\n",
       "</table>\n",
       "</div>"
      ],
      "text/plain": [
       "                                             context     target\n",
       "0            project gutenberg ebook of frankenstein        the\n",
       "1              the gutenberg ebook of frankenstein ,    project\n",
       "2             the project ebook of frankenstein , by  gutenberg\n",
       "3    the project gutenberg of frankenstein , by mary      ebook\n",
       "4  the project gutenberg ebook frankenstein , by ...         of"
      ]
     },
     "execution_count": 36,
     "metadata": {},
     "output_type": "execute_result"
    }
   ],
   "source": [
    "# dataframe\n",
    "cbow_data = pd.DataFrame(data, columns = ['context', 'target'])\n",
    "\n",
    "cbow_data.head()"
   ]
  },
  {
   "cell_type": "code",
   "execution_count": 37,
   "metadata": {},
   "outputs": [
    {
     "data": {
      "text/html": [
       "<div>\n",
       "<style scoped>\n",
       "    .dataframe tbody tr th:only-of-type {\n",
       "        vertical-align: middle;\n",
       "    }\n",
       "\n",
       "    .dataframe tbody tr th {\n",
       "        vertical-align: top;\n",
       "    }\n",
       "\n",
       "    .dataframe thead th {\n",
       "        text-align: right;\n",
       "    }\n",
       "</style>\n",
       "<table border=\"1\" class=\"dataframe\">\n",
       "  <thead>\n",
       "    <tr style=\"text-align: right;\">\n",
       "      <th></th>\n",
       "      <th>context</th>\n",
       "      <th>target</th>\n",
       "      <th>split</th>\n",
       "    </tr>\n",
       "  </thead>\n",
       "  <tbody>\n",
       "    <tr>\n",
       "      <th>90565</th>\n",
       "      <td>our email newsletter to hear new ebooks .</td>\n",
       "      <td>about</td>\n",
       "      <td>test</td>\n",
       "    </tr>\n",
       "    <tr>\n",
       "      <th>90566</th>\n",
       "      <td>email newsletter to hear about ebooks .</td>\n",
       "      <td>new</td>\n",
       "      <td>test</td>\n",
       "    </tr>\n",
       "    <tr>\n",
       "      <th>90567</th>\n",
       "      <td>newsletter to hear about new .</td>\n",
       "      <td>ebooks</td>\n",
       "      <td>test</td>\n",
       "    </tr>\n",
       "    <tr>\n",
       "      <th>90568</th>\n",
       "      <td>to hear about new ebooks</td>\n",
       "      <td>.</td>\n",
       "      <td>test</td>\n",
       "    </tr>\n",
       "    <tr>\n",
       "      <th>90569</th>\n",
       "      <td>hear about new ebooks .</td>\n",
       "      <td></td>\n",
       "      <td>test</td>\n",
       "    </tr>\n",
       "  </tbody>\n",
       "</table>\n",
       "</div>"
      ],
      "text/plain": [
       "                                          context  target split\n",
       "90565  our email newsletter to hear new ebooks .    about  test\n",
       "90566    email newsletter to hear about ebooks .      new  test\n",
       "90567             newsletter to hear about new .   ebooks  test\n",
       "90568                   to hear about new ebooks        .  test\n",
       "90569                     hear about new ebooks .          test"
      ]
     },
     "execution_count": 37,
     "metadata": {},
     "output_type": "execute_result"
    }
   ],
   "source": [
    "# split train, test, val\n",
    "n = len(cbow_data)\n",
    "\n",
    "def get_split(row_num):\n",
    "    if row_num <= n * args.train_proportion:\n",
    "        return 'train'\n",
    "    elif (row_num > n * args.train_proportion) and (row_num <= n *  args.train_proportion + n * args.val_proportion):\n",
    "        return 'val'\n",
    "    else:\n",
    "        return 'test'\n",
    "\n",
    "cbow_data['split'] = cbow_data.apply(lambda row: get_split(row.name), axis = 1)\n",
    "\n",
    "cbow_data.tail()\n"
   ]
  },
  {
   "cell_type": "code",
   "execution_count": 38,
   "metadata": {},
   "outputs": [],
   "source": [
    "# Write split data to file\n",
    "cbow_data.to_csv(args.output_munged_csv, index=False)"
   ]
  },
  {
   "cell_type": "markdown",
   "metadata": {},
   "source": [
    "## 2. Vocabulary, Vectorizer, DataLoader 클래스\n",
    "- 텍스트 입력을 벡터의 미니배치로 바꾸기\n",
    "> 1. 토큰을 정수로 매핑하기\n",
    "> 2. 앞의 각 데이터 포인터에 적용해 벡터 형태로 변환-> 고정된 길이로(padding 이용)\n",
    "> 3. 벡터로 변환한 데이터 포인트를 미니배치로 모음 "
   ]
  },
  {
   "cell_type": "code",
   "execution_count": 39,
   "metadata": {},
   "outputs": [],
   "source": [
    "import os\n",
    "from argparse import Namespace\n",
    "from collections import Counter\n",
    "import json\n",
    "import re\n",
    "import string\n",
    "\n",
    "import numpy as np\n",
    "import pandas as pd\n",
    "import torch \n",
    "import torch.nn as nn\n",
    "import torch.nn.functional as F\n",
    "import torch.optim as optim\n",
    "from torch.utils.data import Dataset, DataLoader\n",
    "from tqdm import tqdm"
   ]
  },
  {
   "cell_type": "markdown",
   "metadata": {},
   "source": [
    "### 1)  토큰을 정수로 매핑하기-> Vocabulary class"
   ]
  },
  {
   "cell_type": "code",
   "execution_count": 40,
   "metadata": {},
   "outputs": [],
   "source": [
    "# Vocabulraty\n",
    "class Vocabulary(object):\n",
    "    \"\"\"매핑을 위해 텍스트를 처리하고 어휘 사전을 만드는 클래스\"\"\"\n",
    "\n",
    "    def __init__(self, token_to_idx = None, mask_token = \"<MASK>\", add_unk = True, unk_token =\">UNK>\"):\n",
    "        \"\"\"\n",
    "        매개변수:\n",
    "            token_to_idx(dict) : 기존 토큰-인텍스 매핑 딕셔너리\n",
    "            mask_token(str) : Vocabulary에 추가할 MASK 토큰\n",
    "                            -> 모델 파라미터를 업데이트 하는데 사용하지 않는 위치를 나타냄\n",
    "            add_unk(bool) : UNK 토큰을 추가할지 지정하는 플래그\n",
    "            unk_token(str) : Vocabulary에 추가할 UNK 토큰\n",
    "        \"\"\"\n",
    "        if token_to_idx is None:\n",
    "            token_to_idx = {}\n",
    "        \n",
    "        self._token_to_idx = token_to_idx\n",
    "\n",
    "        self._idx_to_token = {idx : token for token, idx in self._token_to_idx.items()}\n",
    "\n",
    "        self._add_unk = add_unk\n",
    "        self._unk_token = unk_token\n",
    "        self._mask_token = mask_token\n",
    "\n",
    "        self.mask_index = self.add_token(self._mask_token)\n",
    "        self.unk_index = -1\n",
    "        if add_unk:\n",
    "            self.unk_index = self.add_token(unk_token)\n",
    "\n",
    "    def to_serializable(self):\n",
    "        \"\"\" 직렬화할 수 있는 딕셔너리를 반환합니다.\"\"\"\n",
    "        return {'token_to_idx': self._token_to_idx,\n",
    "                'add_unk': self._add_unk,\n",
    "                'unk_token': self._unk_token,\n",
    "                'mask_token': self._mask_token}\n",
    "\n",
    "    @classmethod\n",
    "    def from_serializable(cls, contents):\n",
    "        \"\"\" 직렬화된 딕셔너리에서 Vocabulary 객체를 만듭니다\"\"\"\n",
    "        return cls(**contents)\n",
    "\n",
    "    def add_token(self, token):\n",
    "        \"\"\"토큰을 기반으로 매핑 딕셔너리를 업데이트합니다\n",
    "        매개변수:\n",
    "            token(str): Vocabulary에 추가할 토큰\n",
    "        반환값:\n",
    "            index(int): 토큰에 상응하는 정수\n",
    "        \"\"\"\n",
    "\n",
    "        if token in self._token_to_idx:\n",
    "            index = len(self._token_to_idx)\n",
    "        else:\n",
    "            index = len(self._token_to_idx)\n",
    "            self._token_to_idx[token] = index\n",
    "            self._idx_to_token[index] = token\n",
    "        return index\n",
    "\n",
    "    def add_many(self, tokens):\n",
    "        \"\"\"토큰 리스트를 Vocabulary에 추가합니다.\n",
    "        매개변수:\n",
    "            token(list): 문자열 토큰 리스트\n",
    "        반환값:\n",
    "            indeces(list): 토큰 리스트에 상응하는 인텍스 리스트\n",
    "        \"\"\"\n",
    "        return [self.add_token(token) for token in tokens]\n",
    "\n",
    "    def lookup_token(self, token):\n",
    "        \"\"\"토큰에 대응되는 인덱스를 추출합니다.  토큰이 없으면 UNK 인덱스를 반환합니다.\n",
    "        매개변수:\n",
    "            token(str): 찾을 토큰\n",
    "        반환값:\n",
    "            index(int): 토큰에 해당하는 인덱스\n",
    "        노트:\n",
    "            UNK 토큰을 사용하려면(Vocavulary에 추가하기 위해) 'unk_index'가 0보다 커야 합니다\n",
    "        \"\"\"\n",
    "        if self.unk_index >= 0:\n",
    "            return self._token_to_idx.get(token, self.unk_index)\n",
    "        else:\n",
    "            return self._token_to_idx[token]\n",
    "    \n",
    "    def lookup_index(self, index):\n",
    "        \"\"\" 인덱스에 해당하는 토큰을 반환합니다. \n",
    "        매개변수:\n",
    "            index(int): 찾을 인덱스\n",
    "        반환값:\n",
    "            token(str): 인덱스에 해당하는 토큰\n",
    "        에러:\n",
    "            KeyError : 인덱스가 Vocabulary에 없을 때 발생합니다.\n",
    "        \"\"\"\n",
    "\n",
    "        if index not in self._idx_to_token:\n",
    "            raise KeyError(\"the index (%d) is not in Vocabulary\" % index)\n",
    "        return self._idx_to_token[index]\n",
    "\n",
    "    def __str__(self):\n",
    "        return \"<Vocabulary(size=%d)>\" % len(self)\n",
    "\n",
    "    def __len__(self):\n",
    "        return len(self._token_to_idx)\n",
    "    "
   ]
  },
  {
   "cell_type": "markdown",
   "metadata": {},
   "source": [
    "### 2) 앞의 각 데이터 포인터에 적용해 벡터 형태로 변환\n"
   ]
  },
  {
   "cell_type": "code",
   "execution_count": 41,
   "metadata": {},
   "outputs": [],
   "source": [
    "class CBOWVectorizer(object):\n",
    "    \"\"\" 어휘 사전을 생성하고 관리합니다.\"\"\"\n",
    "    def __init__(self, cbow_vocab):\n",
    "        \"\"\" \n",
    "        매개변수:\n",
    "            cbow_vocab(Vocabulary) : 단어에 정수를 매핑합니다.\n",
    "        \"\"\"\n",
    "\n",
    "        self.cbow_vocab = cbow_vocab\n",
    "    def vectorize(self, context, vector_length = -1):\n",
    "        \"\"\" \n",
    "        매개변수:\n",
    "            context(str) : 공백으로 나누어진 단어 문자열\n",
    "            vector_length(int) : 인덱스 벡터의 길이 매개변수\n",
    "        \"\"\"\n",
    "\n",
    "        indices = [self.cbow_vocab.lookup_token(token) for token in context.split(' ')]\n",
    "        if vector_length < 0:\n",
    "            vector_length = len(indices)\n",
    "\n",
    "        out_vector = np.zeros(vector_length, dtype = np.int64)\n",
    "        out_vector[:len(indices)] = indices \n",
    "        out_vector[len(indices):] = self.cbow_vocab.mask_index\n",
    "\n",
    "        return out_vector\n",
    "\n",
    "    @classmethod\n",
    "    def from_dataframe(cls, cbow_df):\n",
    "        \"\"\" 데이터셋 데이터프레임에서 Vectorizer 객체를 만듭니다\n",
    "        \n",
    "        매개변수:\n",
    "            cbow_df(pandas.DataFrame) : 타깃 데이터셋\n",
    "        반환값:\n",
    "            CBOWVectorizer 객체\n",
    "        \"\"\"\n",
    "        cbow_vocab = Vocabulary()\n",
    "        for index, row in cbow_df.iterrows():\n",
    "            for token in row.context.split(' '):\n",
    "                cbow_vocab.add_token(token)\n",
    "            cbow_vocab.add_token(row.target)\n",
    "\n",
    "        return cls(cbow_vocab)\n",
    "\n",
    "    @classmethod\n",
    "    def from_serializable(cls, contents):\n",
    "        cbow_vocab = Vocabulary.from_serializagle(contents['cbow_vocab'])\n",
    "        return cls(cbow_vocab = cbow_vocab)\n",
    "\n",
    "    def to_serializable(self):\n",
    "        return {'cbow_vocab': self.cbow_vocab.to_serializable()}   "
   ]
  },
  {
   "cell_type": "markdown",
   "metadata": {},
   "source": [
    "### 3)  벡터로 변환한 데이터 포인트를 미니배치로 모음  \n",
    "\n"
   ]
  },
  {
   "cell_type": "markdown",
   "metadata": {},
   "source": [
    "- CBOWDataset"
   ]
  },
  {
   "cell_type": "code",
   "execution_count": 42,
   "metadata": {},
   "outputs": [],
   "source": [
    "class CBOWDataset(Dataset):\n",
    "    def __init__(self, cbow_df, vectorizer):\n",
    "        \"\"\" \n",
    "        매개변수:\n",
    "            cbow_df(pandas.DataFrame) : 데이터셋\n",
    "            vectorizer(CBOWVectorizer) : 데이터셋에서 만든 CBOWVectorizer 객체\n",
    "        \"\"\"\n",
    "\n",
    "        self.cbow_df = cbow_df\n",
    "        self._vectorizer = vectorizer\n",
    "\n",
    "        measure_len = lambda context: len(context.split(\" \"))\n",
    "        self._max_seq_length = max(map(measure_len, cbow_df.context))\n",
    "\n",
    "        self.train_df = self.cbow_df[self.cbow_df.split=='train']\n",
    "        self.train_size = len(self.train_df)\n",
    "\n",
    "        self.val_df = self.cbow_df[self.cbow_df.split=='val']\n",
    "        self.val_size = len(self.val_df)\n",
    "\n",
    "        self.test_df = self.cbow_df[self.cbow_df.split=='test']\n",
    "        self.test_size = len(self.test_df)\n",
    "\n",
    "        self._lookup_dict = {'train': (self.train_df, self.train_size),\n",
    "                            'val': (self.val_df, self.val_size),\n",
    "                            'test': (self.test_df, self.test_df), }\n",
    "\n",
    "        self.set_split('train')\n",
    "\n",
    "    @classmethod\n",
    "    def load_dataset_and_make_vectorizer(cls, cbow_csv):\n",
    "        \"\"\" 데이터셋을 로드하고 처음부터 새로운 Vectorizer 만들기\n",
    "        매개변수:\n",
    "            cbow_csv(str) : 데이터셋의 위치\n",
    "        반환값:\n",
    "            CBOWDataset의 인스턴스\n",
    "        \"\"\"\n",
    "        cbow_df = pd.read_csv(cbow_csv)\n",
    "        train_cbow_df = cbow_df[cbow_df.split ==\"train\"] \n",
    "        return cls(cbow_df, CBOWVectorizer.from_dataframe(train_cbow_df))\n",
    "\n",
    "    @classmethod\n",
    "    def load_dataset_and_load_vectorizer(cls, cbow_csv, vectorizer_filepath):\n",
    "        \"\"\" 데이터셋을 로드하고 새로운 CBOWVectorizer 객체를 만듭니다.\n",
    "        캐시뒨 CBOWVectorizer 객체를 재사용할 때 사용합니다.\n",
    "        매개변수:\n",
    "            cbow_csv(str) : 데이셋의 위치\n",
    "            vectorizer_filepath(str) : CBOWVectorizer 객체의 저장 위치\n",
    "        반환값:\n",
    "            CBOWVectorizer의 인스턴스\n",
    "        \"\"\"\n",
    "        cbow_df = pd.readcsv(cbow_csv)\n",
    "        vectorizer = cls.load_vectorizer_only(vectorizer_filepath)\n",
    "        return cls(cbow_df, vectorizer)\n",
    "\n",
    "    @staticmethod\n",
    "    def load_vectorizer_only(vectorizer_filepath):\n",
    "        \"\"\" 파일에서 CBOWVectorizer 객체를 로드하는 정적 메서드\n",
    "        \n",
    "        매개변수:\n",
    "            vectorizer-filepath(str) : 직렬화된 CBOWVectorizer 객체의 위치\n",
    "        반환값:\n",
    "            CBOWVectorizer의 인스턴스\n",
    "        \"\"\"\n",
    "\n",
    "        with open(vectorizer_filepath) as fp:\n",
    "            return CBOWVectorizer.from_serializable(json.load(fp))\n",
    "\n",
    "    def save_vectorizer(self,vectorizer_filepath):\n",
    "        \"\"\" CBOWVectorizer 객체를 json형태로 디스트에 저장합니다.\n",
    "        매개변수:\n",
    "            vectorizer_filepath(str) : CBOWVectorizer 객체의저장 위치\n",
    "        \"\"\"\n",
    "        with open(vectorizer_filepath,'w') as fp:\n",
    "            json.dump(self._vectorizer.to_serializable(), fp)\n",
    "\n",
    "    def get_vectorizer(self):\n",
    "        \"\"\" 벡터 변환 객체를 반환합니다\"\"\"\n",
    "        return self._vectorizer\n",
    "\n",
    "    def set_split(self, split = 'train'):\n",
    "        \"\"\" 데이터프레임에 있는 열을 사용해 분할 세트를 선택합니다.\"\"\"\n",
    "        self._target_split = split\n",
    "        self._target_df, self._target_size = self._lookup_dict[split]\n",
    "\n",
    "    def __len__(self):\n",
    "        return self._target_size\n",
    "\n",
    "    def __getitem__(self, index) :\n",
    "        \"\"\" 파이토피 데이터셋의 주요 진입 메서트\n",
    "        매개변수:\n",
    "            index(int) : 데이터 포인트의 인덱스\n",
    "        반환값:\n",
    "            데이터포이트의 특성(x_data)과 레이블(y_target)로 이루어진 딕셔너리\n",
    "        \"\"\"\n",
    "        row = self._target_df.iloc[index]\n",
    "\n",
    "        context_vector = self._vectorizer.vectorize(row.context, self._max_seq_length)\n",
    "        target_index = self._vectorizer.cbow_vocab.lookup_token(row.target)\n",
    "\n",
    "        return {'x_data': context_vector,\n",
    "                'y_target': target_index}\n",
    "\n",
    "    def get_num_batches(self, batch_size):\n",
    "        \"\"\" 배치 크기가 주어지면 데이터셋으로 만들수있는 배치 개수를 반환합니다.\n",
    "        \n",
    "        매개변수:\n",
    "            batch_size(int)\n",
    "        반환값:\n",
    "            배치 개수\n",
    "        \"\"\"\n",
    "        return len(self) // batch_size\n",
    "\n",
    "def generate_batches(dataset, batch_size, shuffle = True, drop_last = True, device = 'cpu'):\n",
    "    \"\"\" 파이토치 DataLoader를 감싸고 있는 제너레이터 함수.\n",
    "    각 텐서를 지정된 장치로 이동합니다.\n",
    "    \"\"\"\n",
    "    dataloader = DataLoader(dataset = dataset,\n",
    "                            batch_size = batch_size,\n",
    "                            shuffle = shuffle,\n",
    "                            drop_last = drop_last)\n",
    "\n",
    "    for data_dict in dataloader:\n",
    "        out_data_dict ={}\n",
    "        for name, tensor in data_dict.items():\n",
    "            out_data_dict[name] = data_dict[name].to(device)\n",
    "        yield out_data_dict\n",
    "\n"
   ]
  },
  {
   "cell_type": "markdown",
   "metadata": {},
   "source": [
    "## 3. CBOWClassifier 모델\n",
    "\n",
    "- 과정\n",
    "> 1. Embedding층을 사용해 문맥의 단어를 나타내는 인텍스를 각 단어에 대한 벡터로 만들기\n",
    "> 2. 전반적인 문맥을 감지하도록 벡터 결합\n",
    "> 3. Linear층에서 문맥 벡터를 사용해 예측 벡터 계산-> 예측 벡터: 전체 어휘 사전에 대한 확률 분포 "
   ]
  },
  {
   "cell_type": "code",
   "execution_count": 43,
   "metadata": {},
   "outputs": [],
   "source": [
    "class CBOWClassifier(nn.Module):\n",
    "    def __init__(self, vocabulary_size, embedding_size, padding_idx = 0):\n",
    "        \"\"\" \n",
    "        매개변수: \n",
    "            vocabulary_size(int) : 어휘 사전 크기, 임베딩 개수와 예측 벡터 크기를 결정\n",
    "            embedding_size(int): 임베딩 크기\n",
    "            padding_idx(int): 기본값 0, 임베딩은 이 인덱스를 사용하지 않습니다.\n",
    "        \"\"\"\n",
    "        super(CBOWClassifier, self).__init__()\n",
    "\n",
    "        self.embedding = nn.Embedding(num_embeddings = vocabulary_size,  # 6173 -> 닥셔너리 개수\n",
    "                                        embedding_dim = embedding_size,  # 300-> 은닉층 hidden node 개수\n",
    "                                        padding_idx = padding_idx\n",
    "                                    ) \n",
    "        self.fc1 = nn.Linear(in_features = embedding_size,\n",
    "                            out_features= vocabulary_size) # 6173\n",
    "\n",
    "    def forward(self, x_in, apply_softmax = False):\n",
    "        \"\"\" 분류기의 정방향 계산\n",
    "        \n",
    "        매개변수:\n",
    "            x_in(torch.Tensor): 입력 데이터 텐서\n",
    "                x_in.shape는 (batch, input_dim)입니다\n",
    "            apply_softmax(bool): 소프트맥스 활성화 함수를 위한 플래그\n",
    "                크로스 엔트로피 손신을 사용하려면 False로 지정합니다.\n",
    "        반환값:\n",
    "            결과 텐서.tensor.shape는 (batch, output_dim)입니다\n",
    "        \"\"\"\n",
    "        x_embedded_sum = self.embedding(x_in).sum(dim =1)   # 문맥 단어 10개의 embedding값을 합치기\n",
    "        y_out = self.fc1(x_embedded_sum)\n",
    "\n",
    "        if apply_softmax:\n",
    "            y_out = F.softmax(y_out, dim = 1)\n",
    "\n",
    "        return y_out\n",
    "\n",
    "        "
   ]
  },
  {
   "cell_type": "markdown",
   "metadata": {},
   "source": [
    "## 4. train\n",
    "\n",
    "- 과정\n",
    "> 1. dataset, Vectorizer 객체, 모델, 손실함수, 옵티마이저 초기화\n",
    "> 2.특정 에포크 횟수 동안 훈련 세트와 검증 셋트 반복\n",
    "> 3. 훈련 세트로 손실함수를 최적화하고, 검증 세트로 훈련 과정을 평가 "
   ]
  },
  {
   "cell_type": "markdown",
   "metadata": {},
   "source": [
    "#### 0) 헬퍼함수"
   ]
  },
  {
   "cell_type": "code",
   "execution_count": 44,
   "metadata": {},
   "outputs": [],
   "source": [
    "\n",
    "def update_train_state(args, model, train_state):\n",
    "    \"\"\" 훈련 상태를 업데이트합니다\n",
    "    \n",
    "    Components:\n",
    "    - 조기 종료: 과대적합 방지\n",
    "    - 모델 체크포인트: 더 나은 모델을 저장합니다.\n",
    "    \n",
    "    : param args: 메일 매개변수\n",
    "    : param model: 훈련할 모델\n",
    "    : param train_state: 훈련 상태를 담은 딕셔너리\n",
    "    : return:\n",
    "        새로운 훈련 상태\n",
    "    \"\"\"\n",
    "\n",
    "    # 적어도 한번 모델을 저장합니다.\n",
    "    if train_state['epoch_index'] == 0:\n",
    "        torch.save(model.state_dict(), train_state['model_filename'])\n",
    "        train_state['stop_early'] = False\n",
    "    \n",
    "    # 성능이 향상되면 모델을 저장합니다.\n",
    "    elif train_state['epoch_index'] >= 1:\n",
    "        loss_tm1, loss_t = train_state['val_loss'][-2:]\n",
    "\n",
    "        # 손실이 나빠지면\n",
    "        if loss_t >= train_state['early_stopping_best_val']:\n",
    "            # 조기종료 단계 업데이트\n",
    "            train_state['early_stopping_step'] += 1\n",
    "        # 손실이 감소하면\n",
    "        else:\n",
    "            # 최상의 모델 저장\n",
    "            if loss_t < train_state['early_stopping_best_val']:\n",
    "                torch.save(model.state_dict(), train_state['model_filename'])\n",
    "\n",
    "            # 조기 종료 단계 재 설정\n",
    "            train_state['early_stopping_step'] = 0\n",
    "\n",
    "        # 조기 종료 여부 확인\n",
    "        train_state['stop_early'] = train_state['early_stopping_step'] >= args.early_stopping_criteria\n",
    "\n",
    "    return train_state\n",
    "\n",
    "def compute_accuracy(y_pred, y_target):\n",
    "    _, y_pred_indeces = y_pred.max(dim=1)\n",
    "    n_correct = torch.eq(y_pred_indeces, y_target).sum().item()\n",
    "    return n_correct/ len(y_pred_indeces) * 100\n",
    "\n",
    "# 일반 유틸리티\n",
    "def set_seed_everywhere(seed, cuda):\n",
    "    np.random.seed(seed)\n",
    "    torch.manual_seed(seed)\n",
    "    if cuda:\n",
    "        torch.cuda.manual_seed_all(seed)\n",
    "\n",
    "def handle_dirs(dirpath):\n",
    "    if not os.path.exists(dirpath):\n",
    "        os.makedirs(dirpath)\n"
   ]
  },
  {
   "cell_type": "code",
   "execution_count": 45,
   "metadata": {},
   "outputs": [],
   "source": [
    "import torch.optim as optim"
   ]
  },
  {
   "cell_type": "markdown",
   "metadata": {},
   "source": [
    "### 0. 설정"
   ]
  },
  {
   "cell_type": "code",
   "execution_count": 46,
   "metadata": {},
   "outputs": [],
   "source": [
    "args = Namespace(\n",
    "    # 날짜와 경로 정보\n",
    "    cbow_csv = \"../assets/data/nlp/3_Word2Vec_CBoW_frankenstein_with_splits.csv\",\n",
    "    vectorizer_file = \"cbow_vectorizer.json\",\n",
    "    model_state_file = \"cbow_model.pth\",\n",
    "    save_dir = \"../assets/model/nlp/cbow\",\n",
    "\n",
    "    # 모델 하이퍼파라미터\n",
    "    embedding_size = 300,\n",
    "\n",
    "    # 훈련 하이퍼파라미터\n",
    "    seed =42,\n",
    "    num_epochs = 100,\n",
    "    learning_rate = 0.001,\n",
    "    batch_size = 128,\n",
    "    early_stopping_criteria = 5,\n",
    "\n",
    "    # 실행 옵션\n",
    "    cuda = True,\n",
    "    catch_keyboard_interrupt = True,\n",
    "    reload_from_files = False,\n",
    "    expand_filepaths_to_save_dir = True,\n",
    "    device = 'cpu'\n",
    ")"
   ]
  },
  {
   "cell_type": "code",
   "execution_count": 47,
   "metadata": {},
   "outputs": [
    {
     "name": "stdout",
     "output_type": "stream",
     "text": [
      "파일 경로:\n",
      "\t../assets/model/nlp/cbow\\cbow_vectorizer.json\n",
      "\t../assets/model/nlp/cbow\\cbow_model.pth\n",
      "CUDA 사용여부: True\n"
     ]
    }
   ],
   "source": [
    "\n",
    "\n",
    "# train_state = make_train_state(args)\n",
    "\n",
    "if args.expand_filepaths_to_save_dir:\n",
    "    args.vectorizer_file = os.path.join(args.save_dir, args.vectorizer_file)\n",
    "    args.model_state_file = os.path.join(args.save_dir, args.model_state_file)\n",
    "\n",
    "print('파일 경로:')\n",
    "print('\\t{}'.format(args.vectorizer_file))\n",
    "print('\\t{}'.format(args.model_state_file))\n",
    "\n",
    "\n",
    "# CUDA check\n",
    "if not torch.cuda.is_available():\n",
    "    args.cuda = False\n",
    "args.device = torch.device('cuda' if args.cuda else 'cpu')\n",
    "print(\"CUDA 사용여부: {}\".format(args.cuda))\n",
    "\n",
    "# 재현성을 위한 시드 설정\n",
    "set_seed_everywhere(args.seed, args.cuda)\n",
    "\n",
    "# 디렉토리 처리\n",
    "handle_dirs(args.save_dir)\n"
   ]
  },
  {
   "cell_type": "markdown",
   "metadata": {},
   "source": [
    "### 1) 데이터셋, 모델, 소실, 옵티마이저, 훈련 상태 딕셔너리 만들기\n"
   ]
  },
  {
   "cell_type": "code",
   "execution_count": 48,
   "metadata": {},
   "outputs": [
    {
     "name": "stdout",
     "output_type": "stream",
     "text": [
      "데이터셋을 로드하고 vectorizer를 만듭니다\n"
     ]
    }
   ],
   "source": [
    "def make_train_state(args):\n",
    "    return {'stop_early': False,\n",
    "            'early_stopping_step': 0,\n",
    "            'early_stopping_best_val': 1e8,\n",
    "            'learning_rate': args.learning_rate,\n",
    "            'epoch_index': 0,\n",
    "            'train_loss': [],\n",
    "            'train_acc': [],\n",
    "            'val_loss':[],\n",
    "            'val_acc': [],\n",
    "            'test_loss' : -1,\n",
    "            'test_acc': -1,\n",
    "            'model_filename': args.model_state_file}\n",
    "\n",
    "train_state = make_train_state(args)\n",
    "\n",
    "# dataset, Vectorizer\n",
    "if args.reload_from_files:\n",
    "    print('데이터셋과 vectorizer를 로드합니다')\n",
    "    dataset = CBOWDataset.load_dataset_and_load_vectorizer(args.cbow_csv, args.vectorizer_file)\n",
    "\n",
    "else:\n",
    "    print('데이터셋을 로드하고 vectorizer를 만듭니다')\n",
    "    dataset = CBOWDataset.load_dataset_and_make_vectorizer(args.cbow_csv)\n",
    "    dataset.save_vectorizer(args.vectorizer_file)\n",
    "\n",
    "vectorizer = dataset.get_vectorizer()\n",
    "\n",
    "# model\n",
    "classifier = CBOWClassifier(vocabulary_size= len(vectorizer.cbow_vocab),\n",
    "                            embedding_size = args.embedding_size)\n",
    "classifier = classifier.to(args.device)\n",
    "\n",
    "\n",
    "# loss function, optimizer\n",
    "loss_func = nn.CrossEntropyLoss()\n",
    "optimizer = optim.Adam(classifier.parameters(), lr = args.learning_rate)\n",
    "scheduler = optim.lr_scheduler.ReduceLROnPlateau(optimizer = optimizer,\n",
    "                                                mode = 'min',\n",
    "                                                factor = 0.5,\n",
    "                                                patience = 1)\n",
    "\n"
   ]
  },
  {
   "cell_type": "code",
   "execution_count": 49,
   "metadata": {},
   "outputs": [
    {
     "name": "stdout",
     "output_type": "stream",
     "text": [
      "['<MASK>', '>UNK>', 'project', 'gutenberg', 'ebook', 'of', 'frankenstein', 'the', ',', 'by']\n"
     ]
    }
   ],
   "source": [
    "# vectorizer 확인\n",
    "idx = list(range(0,10))\n",
    "print([vectorizer.cbow_vocab.lookup_index(i) for i in idx])"
   ]
  },
  {
   "cell_type": "code",
   "execution_count": 50,
   "metadata": {},
   "outputs": [
    {
     "name": "stdout",
     "output_type": "stream",
     "text": [
      "vocabulary_size 6173\n",
      "dict_keys(['token_to_idx', 'add_unk', 'unk_token', 'mask_token'])\n",
      "frankenstein 의 idx: 6\n"
     ]
    }
   ],
   "source": [
    "# cbow_vocab 확인\n",
    "print('vocabulary_size', len(vectorizer.cbow_vocab))\n",
    "\n",
    "print(vectorizer.cbow_vocab.to_serializable().keys())\n",
    "token = 'frankenstein'\n",
    "print( token,'의 idx:', vectorizer.cbow_vocab.to_serializable()['token_to_idx'][token])"
   ]
  },
  {
   "cell_type": "code",
   "execution_count": 62,
   "metadata": {},
   "outputs": [
    {
     "name": "stdout",
     "output_type": "stream",
     "text": [
      "CBOWClassifier(\n",
      "  (embedding): Embedding(6173, 300, padding_idx=0)\n",
      "  (fc1): Linear(in_features=300, out_features=6173, bias=True)\n",
      ")\n"
     ]
    }
   ],
   "source": [
    "# model 확인\n",
    "print(classifier)\n",
    "# 6173 : vocabulary_size\n",
    "# 300 : embedding_size"
   ]
  },
  {
   "cell_type": "markdown",
   "metadata": {},
   "source": [
    "### 2) 훈련"
   ]
  },
  {
   "cell_type": "code",
   "execution_count": 52,
   "metadata": {},
   "outputs": [
    {
     "name": "stderr",
     "output_type": "stream",
     "text": [
      "training_routine:   0%|          | 0/100 [00:34<?, ?it/s]\n",
      "split = train:   0%|          | 0/495 [00:34<?, ?it/s]\n",
      "split = val:   0%|          | 0/106 [00:34<?, ?it/s]\n"
     ]
    }
   ],
   "source": [
    "epoch_bar = tqdm(desc = 'training_routine',\n",
    "                                total = args.num_epochs,\n",
    "                                position = 0)\n",
    "\n",
    "dataset.set_split('train')\n",
    "train_bar = tqdm(desc = 'split = train',\n",
    "                                total = dataset.get_num_batches(args.batch_size),\n",
    "                                position = 1,\n",
    "                                leave = True)\n",
    "\n",
    "dataset.set_split('val')\n",
    "val_bar = tqdm(desc = 'split = val',\n",
    "                                total = dataset.get_num_batches(args.batch_size),\n",
    "                                position = 1,\n",
    "                                leave = True)\n",
    "                                                   "
   ]
  },
  {
   "cell_type": "code",
   "execution_count": 61,
   "metadata": {},
   "outputs": [
    {
     "name": "stdout",
     "output_type": "stream",
     "text": [
      "torch.Size([128, 10])\n",
      "[2738, 293, 399, 650, 5, 4349, 8, 7, 1805, 5]\n",
      "10 ['views', 'he', 'had', 'taken', 'of', 'society', ',', 'the', 'means', 'of']\n"
     ]
    }
   ],
   "source": [
    "# input 값 확인\n",
    "# 문맥단어가 5이기 때문에 5 * 2 = 10개의 단어가 input이 됨\n",
    "dataset.set_split('train')\n",
    "batch_generator = generate_batches(dataset,\n",
    "                                    batch_size = args.batch_size,\n",
    "                                    device = args.device)\n",
    "\n",
    "running_loss = 0.0\n",
    "running_acc = 0.0\n",
    "classifier.train()\n",
    "\n",
    "for batch_index, batch_dict in enumerate(batch_generator):\n",
    "    print(batch_dict['x_data'].shape)\n",
    "    if batch_index == 0:\n",
    "        data = batch_dict['x_data'][0]\n",
    "        data_idx = data.tolist()\n",
    "        print(data_idx)\n",
    "\n",
    "        token = [vectorizer.cbow_vocab._idx_to_token[i] for i in data_idx]\n",
    "        print(len(token), token)\n",
    "\n",
    "    break"
   ]
  },
  {
   "cell_type": "code",
   "execution_count": 63,
   "metadata": {},
   "outputs": [
    {
     "name": "stderr",
     "output_type": "stream",
     "text": [
      "training_routine: 100%|██████████| 100/100 [33:00<00:00, 10.68s/it]  "
     ]
    }
   ],
   "source": [
    "try:\n",
    "    for epoch_index in range(args.num_epochs):\n",
    "        train_state['epoch_index'] = epoch_index\n",
    "\n",
    "        # 훈련 세트에 대한 순회\n",
    "        # 훈련 세트와 배치 제너레이터 준비, 손실과 정확도를 0으로 설정\n",
    "        dataset.set_split('train')\n",
    "        batch_generator = generate_batches(dataset,\n",
    "                                            batch_size = args.batch_size,\n",
    "                                            device = args.device)\n",
    "\n",
    "        running_loss = 0.0\n",
    "        running_acc = 0.0\n",
    "        classifier.train()\n",
    "\n",
    "        for batch_index, batch_dict in enumerate(batch_generator):\n",
    "            # 훈련 과정\n",
    "            # --------------------------------------------\n",
    "            # 단계 1. 그레디언트를 0으로 초기화\n",
    "            optimizer.zero_grad()\n",
    "\n",
    "            # 단계 2. 출력을 계산\n",
    "            y_pred = classifier(x_in = batch_dict['x_data'])\n",
    "\n",
    "            # 단계 3. 손실을 계산\n",
    "            loss = loss_func(y_pred, batch_dict['y_target'])\n",
    "            loss_t = loss.item()\n",
    "            running_loss += (loss_t - running_loss)/(batch_index + 1)\n",
    "\n",
    "            # 단계 4. 손실을 사용해 그레이디언트 계산\n",
    "            loss.backward()\n",
    "\n",
    "            # 단계 5. 옵티마이저로 가중치를 업데이트\n",
    "            optimizer.step()\n",
    "            # --------------------------------------------\n",
    "\n",
    "            # 정확도 계산\n",
    "            acc_t = compute_accuracy(y_pred, batch_dict['y_target'])\n",
    "            running_acc += (acc_t - running_acc) / (batch_index + 1)\n",
    "\n",
    "            # 진행바 업데이트\n",
    "            train_bar.set_postfix(loss = running_loss,\n",
    "                                    acc = running_acc,\n",
    "                                    epoch = epoch_index)\n",
    "            train_bar.update()\n",
    "\n",
    "        train_state['train_loss'].append(running_loss)\n",
    "        train_state['train_acc'].append(running_acc)\n",
    "\n",
    "        # 검증 세트에 대한 순회\n",
    "        # 검증 세트와 배치 제너레이터 준비, 손실과 정확도를 0으로 설정\n",
    "        dataset.set_split('val')\n",
    "        batch_generator = generate_batches(dataset,\n",
    "                                            batch_size = args.batch_size,\n",
    "                                            device = args.device)\n",
    "\n",
    "        running_loss = 0.\n",
    "        running_acc = 0.\n",
    "        classifier.eval()\n",
    "\n",
    "        for batch_index, batch_dict in enumerate(batch_generator):\n",
    "            # 검증 과정\n",
    "            # --------------------------------------------\n",
    "            # 단계 1. 출력을 계산\n",
    "            y_pred = classifier(x_in = batch_dict['x_data'])\n",
    "\n",
    "            # 단계 2. 손실을 계산\n",
    "            loss = loss_func(y_pred, batch_dict['y_target'])\n",
    "            loss_t = loss.item()\n",
    "            running_loss += (loss_t - running_loss)/(batch_index + 1)\n",
    "\n",
    "            # 단계 3. 정확도 계산\n",
    "            acc_t = compute_accuracy(y_pred, batch_dict['y_target'])\n",
    "            running_acc += (acc_t - running_acc) / (batch_index + 1)\n",
    "            # --------------------------------------------\n",
    "\n",
    "            # 진행바 업데이트\n",
    "            val_bar.set_postfix(loss = running_loss,\n",
    "                                    acc = running_acc,\n",
    "                                    epoch = epoch_index)\n",
    "            val_bar.update()\n",
    "\n",
    "        train_state['val_loss'].append(running_loss)\n",
    "        train_state['val_acc'].append(running_acc)\n",
    "\n",
    "        train_state = update_train_state(args = args,\n",
    "                                        model = classifier,\n",
    "                                        train_state = train_state)\n",
    "\n",
    "        scheduler.step(train_state['val_loss'][-1])\n",
    "\n",
    "        if train_state['stop_early']:\n",
    "            break\n",
    "\n",
    "        train_bar.n = 0\n",
    "        val_bar.n = 0\n",
    "        epoch_bar.update()\n",
    "\n",
    "except KeyboardInterrupt:\n",
    "    print('Exiting loop')\n"
   ]
  },
  {
   "cell_type": "markdown",
   "metadata": {},
   "source": [
    "### 3) 결과"
   ]
  },
  {
   "cell_type": "code",
   "execution_count": 70,
   "metadata": {},
   "outputs": [],
   "source": [
    "from matplotlib.pylab  import plt\n",
    "from numpy import arange"
   ]
  },
  {
   "cell_type": "code",
   "execution_count": 76,
   "metadata": {},
   "outputs": [
    {
     "name": "stdout",
     "output_type": "stream",
     "text": [
      "train 100\n",
      "val 100\n"
     ]
    },
    {
     "data": {
      "image/png": "[encoded data removed]",
      "text/plain": [
       "<Figure size 640x480 with 1 Axes>"
      ]
     },
     "metadata": {},
     "output_type": "display_data"
    }
   ],
   "source": [
    "# train_loss, val_loss 비교\n",
    "train_loss = train_state['train_loss']\n",
    "val_loss = train_state['val_loss']\n",
    "\n",
    "print('train', len(train_loss))\n",
    "print('val', len(val_loss))\n",
    "\n",
    " \n",
    "# Generate a sequence of integers to represent the epoch numbers\n",
    "epochs = range(1, 101)\n",
    " \n",
    "# Plot and label the training and validation loss values\n",
    "plt.plot(epochs, train_loss, label='Training Loss')\n",
    "plt.plot(epochs, val_loss, label='Validation Loss')\n",
    " \n",
    "# Add in a title and axes labels\n",
    "plt.title('Training and Validation Loss')\n",
    "plt.xlabel('Epochs')\n",
    "plt.ylabel('Loss')\n",
    " \n",
    "# Set the tick locations\n",
    "plt.xticks(arange(0, 101, 2))\n",
    " \n",
    "# Display the plot\n",
    "plt.legend(loc='best')\n",
    "plt.show()\n",
    "\n"
   ]
  },
  {
   "cell_type": "code",
   "execution_count": 77,
   "metadata": {},
   "outputs": [
    {
     "ename": "TypeError",
     "evalue": "'DataFrame' object cannot be interpreted as an integer",
     "output_type": "error",
     "traceback": [
      "\u001b[1;31m---------------------------------------------------------------------------\u001b[0m",
      "\u001b[1;31mTypeError\u001b[0m                                 Traceback (most recent call last)",
      "Cell \u001b[1;32mIn[77], line 15\u001b[0m\n\u001b[0;32m     12\u001b[0m running_acc \u001b[38;5;241m=\u001b[39m \u001b[38;5;241m0.\u001b[39m\n\u001b[0;32m     13\u001b[0m classifier\u001b[38;5;241m.\u001b[39meval()\n\u001b[1;32m---> 15\u001b[0m \u001b[38;5;28;01mfor\u001b[39;00m batch_index, batch_dict \u001b[38;5;129;01min\u001b[39;00m \u001b[38;5;28menumerate\u001b[39m(batch_generator):\n\u001b[0;32m     16\u001b[0m     \u001b[38;5;66;03m# 출력을 계산합니다\u001b[39;00m\n\u001b[0;32m     17\u001b[0m     y_pred \u001b[38;5;241m=\u001b[39m  classifier(x_in\u001b[38;5;241m=\u001b[39mbatch_dict[\u001b[38;5;124m'\u001b[39m\u001b[38;5;124mx_data\u001b[39m\u001b[38;5;124m'\u001b[39m])\n\u001b[0;32m     19\u001b[0m     \u001b[38;5;66;03m# 손실을 계산합니다\u001b[39;00m\n",
      "Cell \u001b[1;32mIn[42], line 118\u001b[0m, in \u001b[0;36mgenerate_batches\u001b[1;34m(dataset, batch_size, shuffle, drop_last, device)\u001b[0m\n\u001b[0;32m    114\u001b[0m \u001b[38;5;28;01mdef\u001b[39;00m \u001b[38;5;21mgenerate_batches\u001b[39m(dataset, batch_size, shuffle \u001b[38;5;241m=\u001b[39m \u001b[38;5;28;01mTrue\u001b[39;00m, drop_last \u001b[38;5;241m=\u001b[39m \u001b[38;5;28;01mTrue\u001b[39;00m, device \u001b[38;5;241m=\u001b[39m \u001b[38;5;124m'\u001b[39m\u001b[38;5;124mcpu\u001b[39m\u001b[38;5;124m'\u001b[39m):\n\u001b[0;32m    115\u001b[0m \u001b[38;5;250m    \u001b[39m\u001b[38;5;124;03m\"\"\" 파이토치 DataLoader를 감싸고 있는 제너레이터 함수.\u001b[39;00m\n\u001b[0;32m    116\u001b[0m \u001b[38;5;124;03m    각 텐서를 지정된 장치로 이동합니다.\u001b[39;00m\n\u001b[0;32m    117\u001b[0m \u001b[38;5;124;03m    \"\"\"\u001b[39;00m\n\u001b[1;32m--> 118\u001b[0m     dataloader \u001b[38;5;241m=\u001b[39m \u001b[43mDataLoader\u001b[49m\u001b[43m(\u001b[49m\u001b[43mdataset\u001b[49m\u001b[43m \u001b[49m\u001b[38;5;241;43m=\u001b[39;49m\u001b[43m \u001b[49m\u001b[43mdataset\u001b[49m\u001b[43m,\u001b[49m\n\u001b[0;32m    119\u001b[0m \u001b[43m                            \u001b[49m\u001b[43mbatch_size\u001b[49m\u001b[43m \u001b[49m\u001b[38;5;241;43m=\u001b[39;49m\u001b[43m \u001b[49m\u001b[43mbatch_size\u001b[49m\u001b[43m,\u001b[49m\n\u001b[0;32m    120\u001b[0m \u001b[43m                            \u001b[49m\u001b[43mshuffle\u001b[49m\u001b[43m \u001b[49m\u001b[38;5;241;43m=\u001b[39;49m\u001b[43m \u001b[49m\u001b[43mshuffle\u001b[49m\u001b[43m,\u001b[49m\n\u001b[0;32m    121\u001b[0m \u001b[43m                            \u001b[49m\u001b[43mdrop_last\u001b[49m\u001b[43m \u001b[49m\u001b[38;5;241;43m=\u001b[39;49m\u001b[43m \u001b[49m\u001b[43mdrop_last\u001b[49m\u001b[43m)\u001b[49m\n\u001b[0;32m    123\u001b[0m     \u001b[38;5;28;01mfor\u001b[39;00m data_dict \u001b[38;5;129;01min\u001b[39;00m dataloader:\n\u001b[0;32m    124\u001b[0m         out_data_dict \u001b[38;5;241m=\u001b[39m{}\n",
      "File \u001b[1;32mc:\\Users\\shiney\\anaconda3\\envs\\book\\lib\\site-packages\\torch\\utils\\data\\dataloader.py:350\u001b[0m, in \u001b[0;36mDataLoader.__init__\u001b[1;34m(self, dataset, batch_size, shuffle, sampler, batch_sampler, num_workers, collate_fn, pin_memory, drop_last, timeout, worker_init_fn, multiprocessing_context, generator, prefetch_factor, persistent_workers, pin_memory_device)\u001b[0m\n\u001b[0;32m    348\u001b[0m \u001b[39melse\u001b[39;00m:  \u001b[39m# map-style\u001b[39;00m\n\u001b[0;32m    349\u001b[0m     \u001b[39mif\u001b[39;00m shuffle:\n\u001b[1;32m--> 350\u001b[0m         sampler \u001b[39m=\u001b[39m RandomSampler(dataset, generator\u001b[39m=\u001b[39;49mgenerator)  \u001b[39m# type: ignore[arg-type]\u001b[39;00m\n\u001b[0;32m    351\u001b[0m     \u001b[39melse\u001b[39;00m:\n\u001b[0;32m    352\u001b[0m         sampler \u001b[39m=\u001b[39m SequentialSampler(dataset)  \u001b[39m# type: ignore[arg-type]\u001b[39;00m\n",
      "File \u001b[1;32mc:\\Users\\shiney\\anaconda3\\envs\\book\\lib\\site-packages\\torch\\utils\\data\\sampler.py:142\u001b[0m, in \u001b[0;36mRandomSampler.__init__\u001b[1;34m(self, data_source, replacement, num_samples, generator)\u001b[0m\n\u001b[0;32m    139\u001b[0m \u001b[39mif\u001b[39;00m \u001b[39mnot\u001b[39;00m \u001b[39misinstance\u001b[39m(\u001b[39mself\u001b[39m\u001b[39m.\u001b[39mreplacement, \u001b[39mbool\u001b[39m):\n\u001b[0;32m    140\u001b[0m     \u001b[39mraise\u001b[39;00m \u001b[39mTypeError\u001b[39;00m(\u001b[39mf\u001b[39m\u001b[39m\"\u001b[39m\u001b[39mreplacement should be a boolean value, but got replacement=\u001b[39m\u001b[39m{\u001b[39;00m\u001b[39mself\u001b[39m\u001b[39m.\u001b[39mreplacement\u001b[39m}\u001b[39;00m\u001b[39m\"\u001b[39m)\n\u001b[1;32m--> 142\u001b[0m \u001b[39mif\u001b[39;00m \u001b[39mnot\u001b[39;00m \u001b[39misinstance\u001b[39m(\u001b[39mself\u001b[39;49m\u001b[39m.\u001b[39;49mnum_samples, \u001b[39mint\u001b[39m) \u001b[39mor\u001b[39;00m \u001b[39mself\u001b[39m\u001b[39m.\u001b[39mnum_samples \u001b[39m<\u001b[39m\u001b[39m=\u001b[39m \u001b[39m0\u001b[39m:\n\u001b[0;32m    143\u001b[0m     \u001b[39mraise\u001b[39;00m \u001b[39mValueError\u001b[39;00m(\u001b[39mf\u001b[39m\u001b[39m\"\u001b[39m\u001b[39mnum_samples should be a positive integer value, but got num_samples=\u001b[39m\u001b[39m{\u001b[39;00m\u001b[39mself\u001b[39m\u001b[39m.\u001b[39mnum_samples\u001b[39m}\u001b[39;00m\u001b[39m\"\u001b[39m)\n",
      "File \u001b[1;32mc:\\Users\\shiney\\anaconda3\\envs\\book\\lib\\site-packages\\torch\\utils\\data\\sampler.py:149\u001b[0m, in \u001b[0;36mRandomSampler.num_samples\u001b[1;34m(self)\u001b[0m\n\u001b[0;32m    145\u001b[0m \u001b[39m@property\u001b[39m\n\u001b[0;32m    146\u001b[0m \u001b[39mdef\u001b[39;00m \u001b[39mnum_samples\u001b[39m(\u001b[39mself\u001b[39m) \u001b[39m-\u001b[39m\u001b[39m>\u001b[39m \u001b[39mint\u001b[39m:\n\u001b[0;32m    147\u001b[0m     \u001b[39m# dataset size might change at runtime\u001b[39;00m\n\u001b[0;32m    148\u001b[0m     \u001b[39mif\u001b[39;00m \u001b[39mself\u001b[39m\u001b[39m.\u001b[39m_num_samples \u001b[39mis\u001b[39;00m \u001b[39mNone\u001b[39;00m:\n\u001b[1;32m--> 149\u001b[0m         \u001b[39mreturn\u001b[39;00m \u001b[39mlen\u001b[39;49m(\u001b[39mself\u001b[39;49m\u001b[39m.\u001b[39;49mdata_source)\n\u001b[0;32m    150\u001b[0m     \u001b[39mreturn\u001b[39;00m \u001b[39mself\u001b[39m\u001b[39m.\u001b[39m_num_samples\n",
      "\u001b[1;31mTypeError\u001b[0m: 'DataFrame' object cannot be interpreted as an integer"
     ]
    }
   ],
   "source": [
    "# 가장 좋은 모델을 사용헤 테스트 세트의 손실과 정확도 계산\n",
    "classifier.load_state_dict(torch.load(train_state['model_filename']))\n",
    "classifier = classifier.to(args.device)\n",
    "loss_func = nn.CrossEntropyLoss()\n",
    "\n",
    "\n",
    "dataset.set_split('test')\n",
    "batch_generator = generate_batches(dataset, \n",
    "                                   batch_size=args.batch_size, \n",
    "                                   device=args.device)\n",
    "running_loss = 0.\n",
    "running_acc = 0.\n",
    "classifier.eval()\n",
    "\n",
    "for batch_index, batch_dict in enumerate(batch_generator):\n",
    "    # 출력을 계산합니다\n",
    "    y_pred =  classifier(x_in=batch_dict['x_data'])\n",
    "    \n",
    "    # 손실을 계산합니다\n",
    "    loss = loss_func(y_pred, batch_dict['y_target'])\n",
    "    loss_t = loss.item()\n",
    "    running_loss += (loss_t - running_loss) / (batch_index + 1)\n",
    "\n",
    "    # 정확도를 계산합니다\n",
    "    acc_t = compute_accuracy(y_pred, batch_dict['y_target'])\n",
    "    running_acc += (acc_t - running_acc) / (batch_index + 1)\n",
    "\n",
    "train_state['test_loss'] = running_loss\n",
    "train_state['test_acc'] = running_acc"
   ]
  },
  {
   "cell_type": "code",
   "execution_count": 65,
   "metadata": {},
   "outputs": [
    {
     "name": "stdout",
     "output_type": "stream",
     "text": [
      "test set loss: -1\n",
      "test_set acc: -1\n"
     ]
    }
   ],
   "source": [
    "print('test set loss: {}'.format(train_state['test_loss']))\n",
    "print('test_set acc: {}'.format(train_state['test_acc']))"
   ]
  },
  {
   "cell_type": "markdown",
   "metadata": {},
   "source": [
    "### 4) embedding 확인"
   ]
  },
  {
   "cell_type": "code",
   "execution_count": 78,
   "metadata": {},
   "outputs": [],
   "source": [
    "def pretty_print(results):\n",
    "    \"\"\" \n",
    "    임베딩 결과를 출력합니다\n",
    "    \"\"\"\n",
    "    for item in results:\n",
    "        print(\"...[%.2f] - %s\"%(item[1], item[0]))\n",
    "\n",
    "def get_closest(target_word, word_to_idx, embeddings, n =5):\n",
    "    \"\"\"\n",
    "    n개의 최근접 단어를 찾습니다.\n",
    "    \"\"\"\n",
    "\n",
    "    # 다른 모든 단어와의 거리를 계산합니다\n",
    "    word_embedding = embeddings[word_to_idx[target_word.lower()]]\n",
    "    distances = []\n",
    "    for word, index in word_to_idx.items():\n",
    "        if word == \"<MASK>\" or word == target_word:\n",
    "            continue\n",
    "        distances.append(word, torch.dist(word_embedding, embeddings[index]))\n",
    "\n",
    "    results = sorted(distances, key = lambda x: x[1])[1:n+2]\n",
    "    return results"
   ]
  },
  {
   "cell_type": "code",
   "execution_count": 79,
   "metadata": {},
   "outputs": [],
   "source": [
    "word = '왕'\n",
    "embeddings = classifier.embedidng.weight.data\n",
    "word_to_idx = vectorizer.cbow_vocab._token_to_idx\n",
    "pretty_print(get_closest(word, word_to_idx, embeddings, n = 5))"
   ]
  },
  {
   "cell_type": "markdown",
   "metadata": {},
   "source": [
    "- embedding 값은 세가지 모두 될 수 있음.\n",
    "  > - 입력층의 가중치\n",
    "  > - 출력층의 가중치\n",
    "  > - 양쪽 가중치 모두 이용\n",
    "\n",
    "- Word2Vec 모델(특히 skip-gram)에서는 입력층의 가중치를 많이 사용\n",
    "- GloVe 모델에서는 두 가중치를 더해서 사용"
   ]
  },
  {
   "cell_type": "markdown",
   "metadata": {},
   "source": [
    "##### Reference\n",
    "- 밑바닥부터 시작하는 딥러닝2\n",
    "- 파이토치로 배우는 자연어 처리 (한빛미디어, )"
   ]
  },
  {
   "cell_type": "markdown",
   "metadata": {},
   "source": []
  },
  {
   "cell_type": "markdown",
   "metadata": {},
   "source": []
  }
 ],
 "metadata": {
  "kernelspec": {
   "display_name": "Python 3.10.13 ('book')",
   "language": "python",
   "name": "python3"
  },
  "language_info": {
   "codemirror_mode": {
    "name": "ipython",
    "version": 3
   },
   "file_extension": ".py",
   "mimetype": "text/x-python",
   "name": "python",
   "nbconvert_exporter": "python",
   "pygments_lexer": "ipython3",
   "version": "3.10.13"
  },
  "orig_nbformat": 4,
  "vscode": {
   "interpreter": {
    "hash": "fbb9e52b27e1643625a5b3f8a7047453142bd39b43540a1ee4af44f044e42c0c"
   }
  }
 },
 "nbformat": 4,
 "nbformat_minor": 2
}
